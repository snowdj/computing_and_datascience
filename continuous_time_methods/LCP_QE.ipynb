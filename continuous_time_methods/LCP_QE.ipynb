{
 "cells": [
  {
   "cell_type": "markdown",
   "metadata": {},
   "source": [
    "# Complementarity and Optimal Stopping\n",
    "\n",
    "- Prof. Jesse Perla, (jesse.perla@ubc.ca)\n",
    "- Arnav Sood (arnav.sood@ubc.ca)\n",
    "\n",
    "The goal of this notebook is to illustrate and compare different Julia approaches to solving [optimal stopping problems](https://en.wikipedia.org/wiki/Optimal_stopping).\n",
    "\n",
    "In particular, we will be examining reformulations of these problems as [linear complementarity problems](https://en.wikipedia.org/wiki/Linear_complementarity_problem).\n",
    "\n",
    "### Introduction to Optimal Stopping\n",
    "\n",
    "----------\n",
    "\n",
    "Optimal stopping problems concern a decision of when to exit some process and \"accept\" the current realization of some state variable. Many option problems (e.g., when to exercise a stock option at a current price, when to hire a worker at a current quality, etc.) take this form.\n",
    "\n",
    "\n",
    "An familiar example for economists is the [McCall job-search model](https://en.wikipedia.org/wiki/Secretary_problem), whose central question (\"when, in terms of the offer received, should I stop looking for a job?\") is essentially the same thing."
   ]
  },
  {
   "cell_type": "markdown",
   "metadata": {},
   "source": [
    "### Vanilla (Bellman) Formulation (Continuous-Time, 1D)\n",
    "\n",
    "-----------"
   ]
  },
  {
   "cell_type": "markdown",
   "metadata": {},
   "source": [
    "The standard approach (as described by, e.g. [Stokey and Lucas](http://www.princeton.edu/~moll/HACTproject/option_simple.pdf)) is to write down a recursive problem."
   ]
  },
  {
   "cell_type": "markdown",
   "metadata": {},
   "source": [
    "Here's the value function:\n",
    "\n",
    "$$ \n",
    "\\begin{align}v(x) &= \\max_{\\tau \\geq 0} \\mathbb{E}_0 \\big\\{ e^{-\\rho t} u(x_t)d_t + e^{-\\rho \\tau}S(x_\\tau) \\big\\} \\\\ \n",
    "dx_t &= \\mu(x_t) + \\sigma(x_t)dW_t\n",
    "\\end{align}$$"
   ]
  },
  {
   "cell_type": "markdown",
   "metadata": {},
   "source": [
    "In this setup:\n",
    "\n",
    "- $\\rho$ is the discount rate\n",
    "- $x_t$ is the current state\n",
    "- $W_t$ is some random shock, like a white noise process\n",
    "- $\\mu(x_t)$ is the **state-dependent** drift of the state\n",
    "- $\\sigma(x_t)$ is the **state-dependent** loading on the shock\n",
    "- $u(x_t)$ is the instantaneous flow utility under the optimal policy\n",
    "- $S(x_\\tau)$ is the **state-dependent** value of stopping (i.e., think of this as \"exiting\" a search with the current realization of some state variable)"
   ]
  },
  {
   "cell_type": "markdown",
   "metadata": {},
   "source": [
    "The traditional next step is to write a Bellman equation (or, more precisely in the continuous-time case, a Hamilton-Jacobi-Bellman equation):"
   ]
  },
  {
   "cell_type": "markdown",
   "metadata": {},
   "source": [
    "$$ \\rho v(x) = u(x) + \\mu(x) v'(x) + \\frac{\\sigma^2(x)}{2} v''(x) $$\n",
    "\n",
    "We can then solve this problem (after choosing a discrete grid of points) by iterating to a fixed point."
   ]
  },
  {
   "cell_type": "markdown",
   "metadata": {},
   "source": [
    "Let's set up some primitives."
   ]
  },
  {
   "cell_type": "code",
   "execution_count": 46,
   "metadata": {},
   "outputs": [
    {
     "data": {
      "text/plain": [
       "#72 (generic function with 2 methods)"
      ]
     },
     "execution_count": 46,
     "metadata": {},
     "output_type": "execute_result"
    }
   ],
   "source": [
    "using Parameters, LinearAlgebra, Distributions\n",
    "\n",
    "# generator for stopping problem with default values \n",
    "StoppingProblem = @with_kw (ρ = 0.05, # discount rate\n",
    "                            μ = x -> -0.01 * x, # drift\n",
    "                            σ = x -> 0.05 * x, # volatility\n",
    "                            u = x -> x^(1/2), # flow utility\n",
    "                            S = x -> 20. - 0.01 * x, # stopping value\n",
    "                            W = Normal(0.0, 0.01), # shock\n",
    "                            x_min = 0.0,\n",
    "                            x_max = 10.0,\n",
    "                            M = 300) # number of grid points"
   ]
  },
  {
   "cell_type": "markdown",
   "metadata": {},
   "source": [
    "To use this generator:"
   ]
  },
  {
   "cell_type": "code",
   "execution_count": 47,
   "metadata": {},
   "outputs": [
    {
     "name": "stdout",
     "output_type": "stream",
     "text": [
      "default_problem.M = 300\n"
     ]
    }
   ],
   "source": [
    "default_problem = StoppingProblem();\n",
    "@show default_problem.M; # should be 300"
   ]
  },
  {
   "cell_type": "code",
   "execution_count": 48,
   "metadata": {},
   "outputs": [
    {
     "name": "stdout",
     "output_type": "stream",
     "text": [
      "(new_problem.M, new_problem.ρ, new_problem.μ(1)) = (400, 0.02, -0.01)\n"
     ]
    }
   ],
   "source": [
    "new_problem = StoppingProblem(M = 400, ρ = 0.02);\n",
    "@show new_problem.M, new_problem.ρ, new_problem.μ(1); # should be 400, 0.02, -0.1 "
   ]
  },
  {
   "cell_type": "markdown",
   "metadata": {},
   "source": [
    "So, parameters we explicitly change use the new values, and everything else uses the defaults."
   ]
  },
  {
   "cell_type": "code",
   "execution_count": null,
   "metadata": {},
   "outputs": [],
   "source": []
  },
  {
   "cell_type": "markdown",
   "metadata": {},
   "source": [
    "### Stuff from Before\n",
    "\n",
    "-------\n",
    "\n"
   ]
  },
  {
   "cell_type": "code",
   "execution_count": 49,
   "metadata": {},
   "outputs": [
    {
     "data": {
      "text/plain": [
       "diffusionoperators (generic function with 1 method)"
      ]
     },
     "execution_count": 49,
     "metadata": {},
     "output_type": "execute_result"
    }
   ],
   "source": [
    "# Diffusion operators with regular grids\n",
    "function diffusionoperators(x::AbstractRange) # ξ = 0.0 corresponds to the unrescaled case from PTW\n",
    "    Δ = step(x)\n",
    "    P = length(x)\n",
    "\n",
    "    dl_1 = zeros(P-1)\n",
    "    d_1 = -ones(P)\n",
    "    du_1 = ones(P-1)\n",
    "    d_1[end] = d_1[end] + du_1[end] \n",
    "    L_1_plus = Tridiagonal(dl_1, d_1, du_1)/Δ\n",
    "\n",
    "    dl_m1 = -ones(P-1)\n",
    "    d_m1 = ones(P)\n",
    "    du_m1 = zeros(P-1)\n",
    "    d_m1[1] = d_m1[1] + dl_m1[1] \n",
    "    L_1_minus = Tridiagonal(dl_m1, d_m1, du_m1)/Δ\n",
    "\n",
    "    dl_2 = ones(P-1)\n",
    "    d_2 = -2 * ones(P)\n",
    "    d_2[1] = -1\n",
    "    d_2[end] = -1\n",
    "    du_2 = ones(P-1)\n",
    "    L_2 = Tridiagonal(dl_2, d_2, du_2)/(Δ^2)\n",
    "\n",
    "    return (L_1_minus, L_1_plus, L_2)\n",
    "end"
   ]
  },
  {
   "cell_type": "code",
   "execution_count": 50,
   "metadata": {},
   "outputs": [
    {
     "data": {
      "text/plain": [
       "LCP_objects (generic function with 1 method)"
      ]
     },
     "execution_count": 50,
     "metadata": {},
     "output_type": "execute_result"
    }
   ],
   "source": [
    "function LCP_objects(sp)\n",
    "    # setup work \n",
    "    @unpack ρ, μ, σ, S, W, x_min, x_max, M, W, u = sp \n",
    "    grid = range(x_min, x_max, length = M) # instantiate grid \n",
    "    L_1_minus, L_1_plus, L_2 = diffusionoperators(grid)\n",
    "    A = Diagonal(μ.(grid)) * L_1_minus + 1/2 * Diagonal(σ.(grid))^2 * L_2 \n",
    "    B = ρ*I - A \n",
    "    S_vec = S.(grid)\n",
    "    q = -u.(grid) + B*S_vec \n",
    "    return (A = A, B = B, S = S_vec, q = q)\n",
    "end"
   ]
  },
  {
   "cell_type": "code",
   "execution_count": 51,
   "metadata": {},
   "outputs": [],
   "source": [
    "A, B, S, q = LCP_objects(default_problem);"
   ]
  },
  {
   "cell_type": "code",
   "execution_count": 52,
   "metadata": {},
   "outputs": [],
   "source": [
    "using PATHSolver"
   ]
  },
  {
   "cell_type": "code",
   "execution_count": 53,
   "metadata": {},
   "outputs": [
    {
     "name": "stdout",
     "output_type": "stream",
     "text": [
      "  0.283578 seconds (784.73 k allocations: 41.943 MiB, 7.80% gc time)\n",
      "Reading options file path.opt\n",
      "Read of options file complete.\n",
      "\n",
      "300 row/cols, 897 non-zeros, 1.00% dense.\n",
      "\n",
      "Path 4.7.03 (Thu Jan 24 15:44:12 2013)\n",
      "Written by Todd Munson, Steven Dirkse, and Michael Ferris\n",
      "\n",
      " ** EXIT - solution found.\n"
     ]
    },
    {
     "data": {
      "text/plain": [
       "(:Solved, [0.0, 0.0, 0.0, 0.0, 0.0, 0.0, 0.0, 0.0, 0.0, 0.0  …  34.803, 34.8324, 34.8589, 34.8825, 34.9031, 34.9206, 34.9349, 34.9458, 34.9533, 34.9573], [1.0, 0.817101, 0.74133, 0.683184, 0.634161, 0.590969, 0.551919, 0.516007, 0.482579, 0.451182  …  2.30926e-14, -5.68878e-13, 7.16316e-13, -4.14779e-13, -8.81073e-13, -9.34364e-13, 6.72351e-13, -2.40252e-13, 1.69909e-12, -8.32667e-13])"
      ]
     },
     "execution_count": 53,
     "metadata": {},
     "output_type": "execute_result"
    }
   ],
   "source": [
    "f = z -> B*z + q\n",
    "n = default_problem.M\n",
    "lb = zeros(n)\n",
    "ub = 1000*ones(n) # a reasonable guess?\n",
    "options(output = :no, time_limit = 600) # 10 minute budget\n",
    "@time exit_code, sol_z, sol_f = solveLCP(f, lb, ub)"
   ]
  },
  {
   "cell_type": "code",
   "execution_count": 54,
   "metadata": {},
   "outputs": [
    {
     "data": {
      "image/svg+xml": [
       "<?xml version=\"1.0\" encoding=\"utf-8\"?>\n",
       "<svg xmlns=\"http://www.w3.org/2000/svg\" xmlns:xlink=\"http://www.w3.org/1999/xlink\" width=\"600\" height=\"400\" viewBox=\"0 0 2400 1600\">\n",
       "<defs>\n",
       "  <clipPath id=\"clip0500\">\n",
       "    <rect x=\"0\" y=\"0\" width=\"2000\" height=\"2000\"/>\n",
       "  </clipPath>\n",
       "</defs>\n",
       "<defs>\n",
       "  <clipPath id=\"clip0501\">\n",
       "    <rect x=\"0\" y=\"0\" width=\"2400\" height=\"1600\"/>\n",
       "  </clipPath>\n",
       "</defs>\n",
       "<polygon clip-path=\"url(#clip0501)\" points=\"\n",
       "0,1600 2400,1600 2400,0 0,0 \n",
       "  \" fill=\"#ffffff\" fill-rule=\"evenodd\" fill-opacity=\"1\"/>\n",
       "<defs>\n",
       "  <clipPath id=\"clip0502\">\n",
       "    <rect x=\"480\" y=\"0\" width=\"1681\" height=\"1600\"/>\n",
       "  </clipPath>\n",
       "</defs>\n",
       "<polygon clip-path=\"url(#clip0501)\" points=\"\n",
       "211.005,1440.48 2321.26,1440.48 2321.26,125.984 211.005,125.984 \n",
       "  \" fill=\"#ffffff\" fill-rule=\"evenodd\" fill-opacity=\"1\"/>\n",
       "<defs>\n",
       "  <clipPath id=\"clip0503\">\n",
       "    <rect x=\"211\" y=\"125\" width=\"2111\" height=\"1315\"/>\n",
       "  </clipPath>\n",
       "</defs>\n",
       "<polyline clip-path=\"url(#clip0503)\" style=\"stroke:#000000; stroke-width:2; stroke-opacity:0.1; fill:none\" points=\"\n",
       "  264.071,1440.48 264.071,125.984 \n",
       "  \"/>\n",
       "<polyline clip-path=\"url(#clip0503)\" style=\"stroke:#000000; stroke-width:2; stroke-opacity:0.1; fill:none\" points=\"\n",
       "  929.893,1440.48 929.893,125.984 \n",
       "  \"/>\n",
       "<polyline clip-path=\"url(#clip0503)\" style=\"stroke:#000000; stroke-width:2; stroke-opacity:0.1; fill:none\" points=\"\n",
       "  1595.71,1440.48 1595.71,125.984 \n",
       "  \"/>\n",
       "<polyline clip-path=\"url(#clip0503)\" style=\"stroke:#000000; stroke-width:2; stroke-opacity:0.1; fill:none\" points=\"\n",
       "  2261.54,1440.48 2261.54,125.984 \n",
       "  \"/>\n",
       "<polyline clip-path=\"url(#clip0503)\" style=\"stroke:#000000; stroke-width:2; stroke-opacity:0.1; fill:none\" points=\"\n",
       "  211.005,1402.96 2321.26,1402.96 \n",
       "  \"/>\n",
       "<polyline clip-path=\"url(#clip0503)\" style=\"stroke:#000000; stroke-width:2; stroke-opacity:0.1; fill:none\" points=\"\n",
       "  211.005,1047.29 2321.26,1047.29 \n",
       "  \"/>\n",
       "<polyline clip-path=\"url(#clip0503)\" style=\"stroke:#000000; stroke-width:2; stroke-opacity:0.1; fill:none\" points=\"\n",
       "  211.005,691.618 2321.26,691.618 \n",
       "  \"/>\n",
       "<polyline clip-path=\"url(#clip0503)\" style=\"stroke:#000000; stroke-width:2; stroke-opacity:0.1; fill:none\" points=\"\n",
       "  211.005,335.948 2321.26,335.948 \n",
       "  \"/>\n",
       "<polyline clip-path=\"url(#clip0501)\" style=\"stroke:#000000; stroke-width:4; stroke-opacity:1; fill:none\" points=\"\n",
       "  211.005,1440.48 2321.26,1440.48 \n",
       "  \"/>\n",
       "<polyline clip-path=\"url(#clip0501)\" style=\"stroke:#000000; stroke-width:4; stroke-opacity:1; fill:none\" points=\"\n",
       "  211.005,1440.48 211.005,125.984 \n",
       "  \"/>\n",
       "<polyline clip-path=\"url(#clip0501)\" style=\"stroke:#000000; stroke-width:4; stroke-opacity:1; fill:none\" points=\"\n",
       "  264.071,1440.48 264.071,1420.77 \n",
       "  \"/>\n",
       "<polyline clip-path=\"url(#clip0501)\" style=\"stroke:#000000; stroke-width:4; stroke-opacity:1; fill:none\" points=\"\n",
       "  929.893,1440.48 929.893,1420.77 \n",
       "  \"/>\n",
       "<polyline clip-path=\"url(#clip0501)\" style=\"stroke:#000000; stroke-width:4; stroke-opacity:1; fill:none\" points=\"\n",
       "  1595.71,1440.48 1595.71,1420.77 \n",
       "  \"/>\n",
       "<polyline clip-path=\"url(#clip0501)\" style=\"stroke:#000000; stroke-width:4; stroke-opacity:1; fill:none\" points=\"\n",
       "  2261.54,1440.48 2261.54,1420.77 \n",
       "  \"/>\n",
       "<polyline clip-path=\"url(#clip0501)\" style=\"stroke:#000000; stroke-width:4; stroke-opacity:1; fill:none\" points=\"\n",
       "  211.005,1402.96 242.659,1402.96 \n",
       "  \"/>\n",
       "<polyline clip-path=\"url(#clip0501)\" style=\"stroke:#000000; stroke-width:4; stroke-opacity:1; fill:none\" points=\"\n",
       "  211.005,1047.29 242.659,1047.29 \n",
       "  \"/>\n",
       "<polyline clip-path=\"url(#clip0501)\" style=\"stroke:#000000; stroke-width:4; stroke-opacity:1; fill:none\" points=\"\n",
       "  211.005,691.618 242.659,691.618 \n",
       "  \"/>\n",
       "<polyline clip-path=\"url(#clip0501)\" style=\"stroke:#000000; stroke-width:4; stroke-opacity:1; fill:none\" points=\"\n",
       "  211.005,335.948 242.659,335.948 \n",
       "  \"/>\n",
       "<g clip-path=\"url(#clip0501)\">\n",
       "<text style=\"fill:#000000; fill-opacity:1; font-family:Arial,Helvetica Neue,Helvetica,sans-serif; font-size:48px; text-anchor:middle;\" transform=\"rotate(0, 264.071, 1494.48)\" x=\"264.071\" y=\"1494.48\">0</text>\n",
       "</g>\n",
       "<g clip-path=\"url(#clip0501)\">\n",
       "<text style=\"fill:#000000; fill-opacity:1; font-family:Arial,Helvetica Neue,Helvetica,sans-serif; font-size:48px; text-anchor:middle;\" transform=\"rotate(0, 929.893, 1494.48)\" x=\"929.893\" y=\"1494.48\">100</text>\n",
       "</g>\n",
       "<g clip-path=\"url(#clip0501)\">\n",
       "<text style=\"fill:#000000; fill-opacity:1; font-family:Arial,Helvetica Neue,Helvetica,sans-serif; font-size:48px; text-anchor:middle;\" transform=\"rotate(0, 1595.71, 1494.48)\" x=\"1595.71\" y=\"1494.48\">200</text>\n",
       "</g>\n",
       "<g clip-path=\"url(#clip0501)\">\n",
       "<text style=\"fill:#000000; fill-opacity:1; font-family:Arial,Helvetica Neue,Helvetica,sans-serif; font-size:48px; text-anchor:middle;\" transform=\"rotate(0, 2261.54, 1494.48)\" x=\"2261.54\" y=\"1494.48\">300</text>\n",
       "</g>\n",
       "<g clip-path=\"url(#clip0501)\">\n",
       "<text style=\"fill:#000000; fill-opacity:1; font-family:Arial,Helvetica Neue,Helvetica,sans-serif; font-size:48px; text-anchor:end;\" transform=\"rotate(0, 187.005, 1420.46)\" x=\"187.005\" y=\"1420.46\">20</text>\n",
       "</g>\n",
       "<g clip-path=\"url(#clip0501)\">\n",
       "<text style=\"fill:#000000; fill-opacity:1; font-family:Arial,Helvetica Neue,Helvetica,sans-serif; font-size:48px; text-anchor:end;\" transform=\"rotate(0, 187.005, 1064.79)\" x=\"187.005\" y=\"1064.79\">30</text>\n",
       "</g>\n",
       "<g clip-path=\"url(#clip0501)\">\n",
       "<text style=\"fill:#000000; fill-opacity:1; font-family:Arial,Helvetica Neue,Helvetica,sans-serif; font-size:48px; text-anchor:end;\" transform=\"rotate(0, 187.005, 709.118)\" x=\"187.005\" y=\"709.118\">40</text>\n",
       "</g>\n",
       "<g clip-path=\"url(#clip0501)\">\n",
       "<text style=\"fill:#000000; fill-opacity:1; font-family:Arial,Helvetica Neue,Helvetica,sans-serif; font-size:48px; text-anchor:end;\" transform=\"rotate(0, 187.005, 353.448)\" x=\"187.005\" y=\"353.448\">50</text>\n",
       "</g>\n",
       "<g clip-path=\"url(#clip0501)\">\n",
       "<text style=\"fill:#000000; fill-opacity:1; font-family:Arial,Helvetica Neue,Helvetica,sans-serif; font-size:84px; text-anchor:middle;\" transform=\"rotate(0, 1266.13, 73.2)\" x=\"1266.13\" y=\"73.2\">Value Function for Vanilla Model</text>\n",
       "</g>\n",
       "<g clip-path=\"url(#clip0501)\">\n",
       "<text style=\"fill:#000000; fill-opacity:1; font-family:Arial,Helvetica Neue,Helvetica,sans-serif; font-size:66px; text-anchor:middle;\" transform=\"rotate(0, 1266.13, 1590.4)\" x=\"1266.13\" y=\"1590.4\">x</text>\n",
       "</g>\n",
       "<g clip-path=\"url(#clip0501)\">\n",
       "<text style=\"fill:#000000; fill-opacity:1; font-family:Arial,Helvetica Neue,Helvetica,sans-serif; font-size:66px; text-anchor:middle;\" transform=\"rotate(-90, 57.6, 783.233)\" x=\"57.6\" y=\"783.233\">v(x)</text>\n",
       "</g>\n",
       "<polyline clip-path=\"url(#clip0503)\" style=\"stroke:#009af9; stroke-width:4; stroke-opacity:1; fill:none\" points=\"\n",
       "  270.729,1402.96 277.387,1402.97 284.046,1402.98 290.704,1402.99 297.362,1403.01 304.02,1403.02 310.678,1403.03 317.337,1403.04 323.995,1403.05 330.653,1403.07 \n",
       "  337.311,1403.08 343.97,1403.09 350.628,1403.1 357.286,1403.11 363.944,1403.13 370.602,1403.14 377.261,1403.15 383.919,1403.16 390.577,1403.17 397.235,1403.18 \n",
       "  403.894,1403.2 410.552,1403.21 417.21,1403.22 423.868,1403.23 430.526,1403.24 437.185,1403.26 443.843,1403.27 450.501,1403.28 457.159,1402.91 463.817,1401.26 \n",
       "  470.476,1398.56 477.134,1394.99 483.792,1390.72 490.45,1385.85 497.109,1380.5 503.767,1374.75 510.425,1368.66 517.083,1362.3 523.741,1355.71 530.4,1348.94 \n",
       "  537.058,1342.01 543.716,1334.96 550.374,1327.81 557.032,1320.58 563.691,1313.29 570.349,1305.96 577.007,1298.59 583.665,1291.2 590.324,1283.79 596.982,1276.38 \n",
       "  603.64,1268.97 610.298,1261.57 616.956,1254.17 623.615,1246.8 630.273,1239.45 636.931,1232.11 643.589,1224.81 650.247,1217.53 656.906,1210.28 663.564,1203.06 \n",
       "  670.222,1195.88 676.88,1188.73 683.539,1181.61 690.197,1174.53 696.855,1167.48 703.513,1160.47 710.171,1153.5 716.83,1146.56 723.488,1139.66 730.146,1132.8 \n",
       "  736.804,1125.97 743.462,1119.18 750.121,1112.43 756.779,1105.72 763.437,1099.04 770.095,1092.39 776.754,1085.79 783.412,1079.21 790.07,1072.68 796.728,1066.18 \n",
       "  803.386,1059.71 810.045,1053.28 816.703,1046.88 823.361,1040.52 830.019,1034.19 836.678,1027.89 843.336,1021.63 849.994,1015.39 856.652,1009.19 863.31,1003.02 \n",
       "  869.969,996.886 876.627,990.779 883.285,984.703 889.943,978.657 896.601,972.64 903.26,966.653 909.918,960.695 916.576,954.765 923.234,948.864 929.893,942.991 \n",
       "  936.551,937.146 943.209,931.328 949.867,925.537 956.525,919.772 963.184,914.034 969.842,908.322 976.5,902.636 983.158,896.975 989.816,891.339 996.475,885.728 \n",
       "  1003.13,880.142 1009.79,874.579 1016.45,869.041 1023.11,863.527 1029.77,858.035 1036.42,852.567 1043.08,847.122 1049.74,841.699 1056.4,836.299 1063.06,830.921 \n",
       "  1069.72,825.564 1076.37,820.23 1083.03,814.916 1089.69,809.624 1096.35,804.352 1103.01,799.101 1109.66,793.871 1116.32,788.661 1122.98,783.47 1129.64,778.3 \n",
       "  1136.3,773.149 1142.96,768.017 1149.61,762.905 1156.27,757.811 1162.93,752.736 1169.59,747.68 1176.25,742.642 1182.9,737.622 1189.56,732.621 1196.22,727.637 \n",
       "  1202.88,722.67 1209.54,717.721 1216.2,712.79 1222.85,707.875 1229.51,702.978 1236.17,698.097 1242.83,693.233 1249.49,688.385 1256.15,683.554 1262.8,678.739 \n",
       "  1269.46,673.94 1276.12,669.156 1282.78,664.389 1289.44,659.637 1296.09,654.9 1302.75,650.179 1309.41,645.473 1316.07,640.782 1322.73,636.106 1329.39,631.445 \n",
       "  1336.04,626.799 1342.7,622.167 1349.36,617.55 1356.02,612.946 1362.68,608.358 1369.33,603.783 1375.99,599.222 1382.65,594.676 1389.31,590.143 1395.97,585.623 \n",
       "  1402.63,581.118 1409.28,576.626 1415.94,572.147 1422.6,567.682 1429.26,563.23 1435.92,558.792 1442.58,554.366 1449.23,549.954 1455.89,545.554 1462.55,541.168 \n",
       "  1469.21,536.794 1475.87,532.433 1482.52,528.085 1489.18,523.75 1495.84,519.427 1502.5,515.117 1509.16,510.82 1515.82,506.535 1522.47,502.262 1529.13,498.002 \n",
       "  1535.79,493.754 1542.45,489.519 1549.11,485.296 1555.76,481.086 1562.42,476.888 1569.08,472.702 1575.74,468.529 1582.4,464.368 1589.06,460.22 1595.71,456.083 \n",
       "  1602.37,451.96 1609.03,447.848 1615.69,443.75 1622.35,439.664 1629.01,435.59 1635.66,431.529 1642.32,427.481 1648.98,423.445 1655.64,419.422 1662.3,415.412 \n",
       "  1668.95,411.415 1675.61,407.432 1682.27,403.461 1688.93,399.504 1695.59,395.56 1702.25,391.629 1708.9,387.713 1715.56,383.81 1722.22,379.921 1728.88,376.046 \n",
       "  1735.54,372.186 1742.19,368.34 1748.85,364.509 1755.51,360.693 1762.17,356.891 1768.83,353.106 1775.49,349.336 1782.14,345.582 1788.8,341.844 1795.46,338.122 \n",
       "  1802.12,334.417 1808.78,330.73 1815.44,327.059 1822.09,323.407 1828.75,319.773 1835.41,316.157 1842.07,312.56 1848.73,308.983 1855.38,305.425 1862.04,301.888 \n",
       "  1868.7,298.371 1875.36,294.876 1882.02,291.402 1888.68,287.951 1895.33,284.523 1901.99,281.118 1908.65,277.737 1915.31,274.381 1921.97,271.051 1928.62,267.746 \n",
       "  1935.28,264.469 1941.94,261.219 1948.6,257.998 1955.26,254.806 1961.92,251.644 1968.57,248.513 1975.23,245.414 1981.89,242.348 1988.55,239.315 1995.21,236.318 \n",
       "  2001.87,233.356 2008.52,230.432 2015.18,227.546 2021.84,224.699 2028.5,221.893 2035.16,219.129 2041.81,216.409 2048.47,213.733 2055.13,211.103 2061.79,208.521 \n",
       "  2068.45,205.988 2075.11,203.506 2081.76,201.076 2088.42,198.7 2095.08,196.38 2101.74,194.118 2108.4,191.915 2115.05,189.774 2121.71,187.697 2128.37,185.685 \n",
       "  2135.03,183.741 2141.69,181.867 2148.35,180.066 2155,178.339 2161.66,176.69 2168.32,175.121 2174.98,173.634 2181.64,172.232 2188.3,170.919 2194.95,169.696 \n",
       "  2201.61,168.567 2208.27,167.536 2214.93,166.605 2221.59,165.777 2228.24,165.056 2234.9,164.446 2241.56,163.951 2248.22,163.573 2254.88,163.317 2261.54,163.187 \n",
       "  \n",
       "  \"/>\n",
       "</svg>\n"
      ]
     },
     "execution_count": 54,
     "metadata": {},
     "output_type": "execute_result"
    }
   ],
   "source": [
    "using Plots\n",
    "v = sol_z + S \n",
    "plot(v, title = \"Value Function for Vanilla Model\", legend = false, xlabel = \"x\", ylabel = \"v(x)\")"
   ]
  },
  {
   "cell_type": "code",
   "execution_count": 55,
   "metadata": {},
   "outputs": [],
   "source": [
    "using NLsolve"
   ]
  },
  {
   "cell_type": "code",
   "execution_count": 56,
   "metadata": {},
   "outputs": [
    {
     "name": "stdout",
     "output_type": "stream",
     "text": [
      "  4.466888 seconds (12.39 M allocations: 670.624 MiB, 9.50% gc time)\n"
     ]
    }
   ],
   "source": [
    "function f!(F, z)\n",
    "    F .= B*z + q # in place assignment\n",
    "end\n",
    "\n",
    "@time r = mcpsolve(f!, lb, ub,\n",
    "                zeros(n), # initial condition\n",
    "                reformulation = :smooth, # uses a so-called \"Fischer function\" to smooth out the problem\n",
    "                autodiff = :forward,\n",
    "                ftol = 1e-12);"
   ]
  },
  {
   "cell_type": "code",
   "execution_count": 57,
   "metadata": {},
   "outputs": [
    {
     "data": {
      "image/svg+xml": [
       "<?xml version=\"1.0\" encoding=\"utf-8\"?>\n",
       "<svg xmlns=\"http://www.w3.org/2000/svg\" xmlns:xlink=\"http://www.w3.org/1999/xlink\" width=\"600\" height=\"400\" viewBox=\"0 0 2400 1600\">\n",
       "<defs>\n",
       "  <clipPath id=\"clip0700\">\n",
       "    <rect x=\"0\" y=\"0\" width=\"2000\" height=\"2000\"/>\n",
       "  </clipPath>\n",
       "</defs>\n",
       "<defs>\n",
       "  <clipPath id=\"clip0701\">\n",
       "    <rect x=\"0\" y=\"0\" width=\"2400\" height=\"1600\"/>\n",
       "  </clipPath>\n",
       "</defs>\n",
       "<polygon clip-path=\"url(#clip0701)\" points=\"\n",
       "0,1600 2400,1600 2400,0 0,0 \n",
       "  \" fill=\"#ffffff\" fill-rule=\"evenodd\" fill-opacity=\"1\"/>\n",
       "<defs>\n",
       "  <clipPath id=\"clip0702\">\n",
       "    <rect x=\"480\" y=\"0\" width=\"1681\" height=\"1600\"/>\n",
       "  </clipPath>\n",
       "</defs>\n",
       "<polygon clip-path=\"url(#clip0701)\" points=\"\n",
       "211.005,1440.48 2321.26,1440.48 2321.26,125.984 211.005,125.984 \n",
       "  \" fill=\"#ffffff\" fill-rule=\"evenodd\" fill-opacity=\"1\"/>\n",
       "<defs>\n",
       "  <clipPath id=\"clip0703\">\n",
       "    <rect x=\"211\" y=\"125\" width=\"2111\" height=\"1315\"/>\n",
       "  </clipPath>\n",
       "</defs>\n",
       "<polyline clip-path=\"url(#clip0703)\" style=\"stroke:#000000; stroke-width:2; stroke-opacity:0.1; fill:none\" points=\"\n",
       "  264.071,1440.48 264.071,125.984 \n",
       "  \"/>\n",
       "<polyline clip-path=\"url(#clip0703)\" style=\"stroke:#000000; stroke-width:2; stroke-opacity:0.1; fill:none\" points=\"\n",
       "  929.893,1440.48 929.893,125.984 \n",
       "  \"/>\n",
       "<polyline clip-path=\"url(#clip0703)\" style=\"stroke:#000000; stroke-width:2; stroke-opacity:0.1; fill:none\" points=\"\n",
       "  1595.71,1440.48 1595.71,125.984 \n",
       "  \"/>\n",
       "<polyline clip-path=\"url(#clip0703)\" style=\"stroke:#000000; stroke-width:2; stroke-opacity:0.1; fill:none\" points=\"\n",
       "  2261.54,1440.48 2261.54,125.984 \n",
       "  \"/>\n",
       "<polyline clip-path=\"url(#clip0703)\" style=\"stroke:#000000; stroke-width:2; stroke-opacity:0.1; fill:none\" points=\"\n",
       "  211.005,1402.96 2321.26,1402.96 \n",
       "  \"/>\n",
       "<polyline clip-path=\"url(#clip0703)\" style=\"stroke:#000000; stroke-width:2; stroke-opacity:0.1; fill:none\" points=\"\n",
       "  211.005,1047.29 2321.26,1047.29 \n",
       "  \"/>\n",
       "<polyline clip-path=\"url(#clip0703)\" style=\"stroke:#000000; stroke-width:2; stroke-opacity:0.1; fill:none\" points=\"\n",
       "  211.005,691.618 2321.26,691.618 \n",
       "  \"/>\n",
       "<polyline clip-path=\"url(#clip0703)\" style=\"stroke:#000000; stroke-width:2; stroke-opacity:0.1; fill:none\" points=\"\n",
       "  211.005,335.948 2321.26,335.948 \n",
       "  \"/>\n",
       "<polyline clip-path=\"url(#clip0701)\" style=\"stroke:#000000; stroke-width:4; stroke-opacity:1; fill:none\" points=\"\n",
       "  211.005,1440.48 2321.26,1440.48 \n",
       "  \"/>\n",
       "<polyline clip-path=\"url(#clip0701)\" style=\"stroke:#000000; stroke-width:4; stroke-opacity:1; fill:none\" points=\"\n",
       "  211.005,1440.48 211.005,125.984 \n",
       "  \"/>\n",
       "<polyline clip-path=\"url(#clip0701)\" style=\"stroke:#000000; stroke-width:4; stroke-opacity:1; fill:none\" points=\"\n",
       "  264.071,1440.48 264.071,1420.77 \n",
       "  \"/>\n",
       "<polyline clip-path=\"url(#clip0701)\" style=\"stroke:#000000; stroke-width:4; stroke-opacity:1; fill:none\" points=\"\n",
       "  929.893,1440.48 929.893,1420.77 \n",
       "  \"/>\n",
       "<polyline clip-path=\"url(#clip0701)\" style=\"stroke:#000000; stroke-width:4; stroke-opacity:1; fill:none\" points=\"\n",
       "  1595.71,1440.48 1595.71,1420.77 \n",
       "  \"/>\n",
       "<polyline clip-path=\"url(#clip0701)\" style=\"stroke:#000000; stroke-width:4; stroke-opacity:1; fill:none\" points=\"\n",
       "  2261.54,1440.48 2261.54,1420.77 \n",
       "  \"/>\n",
       "<polyline clip-path=\"url(#clip0701)\" style=\"stroke:#000000; stroke-width:4; stroke-opacity:1; fill:none\" points=\"\n",
       "  211.005,1402.96 242.659,1402.96 \n",
       "  \"/>\n",
       "<polyline clip-path=\"url(#clip0701)\" style=\"stroke:#000000; stroke-width:4; stroke-opacity:1; fill:none\" points=\"\n",
       "  211.005,1047.29 242.659,1047.29 \n",
       "  \"/>\n",
       "<polyline clip-path=\"url(#clip0701)\" style=\"stroke:#000000; stroke-width:4; stroke-opacity:1; fill:none\" points=\"\n",
       "  211.005,691.618 242.659,691.618 \n",
       "  \"/>\n",
       "<polyline clip-path=\"url(#clip0701)\" style=\"stroke:#000000; stroke-width:4; stroke-opacity:1; fill:none\" points=\"\n",
       "  211.005,335.948 242.659,335.948 \n",
       "  \"/>\n",
       "<g clip-path=\"url(#clip0701)\">\n",
       "<text style=\"fill:#000000; fill-opacity:1; font-family:Arial,Helvetica Neue,Helvetica,sans-serif; font-size:48px; text-anchor:middle;\" transform=\"rotate(0, 264.071, 1494.48)\" x=\"264.071\" y=\"1494.48\">0</text>\n",
       "</g>\n",
       "<g clip-path=\"url(#clip0701)\">\n",
       "<text style=\"fill:#000000; fill-opacity:1; font-family:Arial,Helvetica Neue,Helvetica,sans-serif; font-size:48px; text-anchor:middle;\" transform=\"rotate(0, 929.893, 1494.48)\" x=\"929.893\" y=\"1494.48\">100</text>\n",
       "</g>\n",
       "<g clip-path=\"url(#clip0701)\">\n",
       "<text style=\"fill:#000000; fill-opacity:1; font-family:Arial,Helvetica Neue,Helvetica,sans-serif; font-size:48px; text-anchor:middle;\" transform=\"rotate(0, 1595.71, 1494.48)\" x=\"1595.71\" y=\"1494.48\">200</text>\n",
       "</g>\n",
       "<g clip-path=\"url(#clip0701)\">\n",
       "<text style=\"fill:#000000; fill-opacity:1; font-family:Arial,Helvetica Neue,Helvetica,sans-serif; font-size:48px; text-anchor:middle;\" transform=\"rotate(0, 2261.54, 1494.48)\" x=\"2261.54\" y=\"1494.48\">300</text>\n",
       "</g>\n",
       "<g clip-path=\"url(#clip0701)\">\n",
       "<text style=\"fill:#000000; fill-opacity:1; font-family:Arial,Helvetica Neue,Helvetica,sans-serif; font-size:48px; text-anchor:end;\" transform=\"rotate(0, 187.005, 1420.46)\" x=\"187.005\" y=\"1420.46\">20</text>\n",
       "</g>\n",
       "<g clip-path=\"url(#clip0701)\">\n",
       "<text style=\"fill:#000000; fill-opacity:1; font-family:Arial,Helvetica Neue,Helvetica,sans-serif; font-size:48px; text-anchor:end;\" transform=\"rotate(0, 187.005, 1064.79)\" x=\"187.005\" y=\"1064.79\">30</text>\n",
       "</g>\n",
       "<g clip-path=\"url(#clip0701)\">\n",
       "<text style=\"fill:#000000; fill-opacity:1; font-family:Arial,Helvetica Neue,Helvetica,sans-serif; font-size:48px; text-anchor:end;\" transform=\"rotate(0, 187.005, 709.118)\" x=\"187.005\" y=\"709.118\">40</text>\n",
       "</g>\n",
       "<g clip-path=\"url(#clip0701)\">\n",
       "<text style=\"fill:#000000; fill-opacity:1; font-family:Arial,Helvetica Neue,Helvetica,sans-serif; font-size:48px; text-anchor:end;\" transform=\"rotate(0, 187.005, 353.448)\" x=\"187.005\" y=\"353.448\">50</text>\n",
       "</g>\n",
       "<g clip-path=\"url(#clip0701)\">\n",
       "<text style=\"fill:#000000; fill-opacity:1; font-family:Arial,Helvetica Neue,Helvetica,sans-serif; font-size:84px; text-anchor:middle;\" transform=\"rotate(0, 1266.13, 73.2)\" x=\"1266.13\" y=\"73.2\">Value Function for Vanilla Model</text>\n",
       "</g>\n",
       "<g clip-path=\"url(#clip0701)\">\n",
       "<text style=\"fill:#000000; fill-opacity:1; font-family:Arial,Helvetica Neue,Helvetica,sans-serif; font-size:66px; text-anchor:middle;\" transform=\"rotate(0, 1266.13, 1590.4)\" x=\"1266.13\" y=\"1590.4\">x</text>\n",
       "</g>\n",
       "<g clip-path=\"url(#clip0701)\">\n",
       "<text style=\"fill:#000000; fill-opacity:1; font-family:Arial,Helvetica Neue,Helvetica,sans-serif; font-size:66px; text-anchor:middle;\" transform=\"rotate(-90, 57.6, 783.233)\" x=\"57.6\" y=\"783.233\">v(x)</text>\n",
       "</g>\n",
       "<polyline clip-path=\"url(#clip0703)\" style=\"stroke:#009af9; stroke-width:4; stroke-opacity:1; fill:none\" points=\"\n",
       "  270.729,1402.96 277.387,1402.97 284.046,1402.98 290.704,1402.99 297.362,1403.01 304.02,1403.02 310.678,1403.03 317.337,1403.04 323.995,1403.05 330.653,1403.07 \n",
       "  337.311,1403.08 343.97,1403.09 350.628,1403.1 357.286,1403.11 363.944,1403.13 370.602,1403.14 377.261,1403.15 383.919,1403.16 390.577,1403.17 397.235,1403.18 \n",
       "  403.894,1403.2 410.552,1403.21 417.21,1403.22 423.868,1403.23 430.526,1403.24 437.185,1403.26 443.843,1403.27 450.501,1403.28 457.159,1402.91 463.817,1401.26 \n",
       "  470.476,1398.56 477.134,1394.99 483.792,1390.72 490.45,1385.85 497.109,1380.5 503.767,1374.75 510.425,1368.66 517.083,1362.3 523.741,1355.71 530.4,1348.94 \n",
       "  537.058,1342.01 543.716,1334.96 550.374,1327.81 557.032,1320.58 563.691,1313.29 570.349,1305.96 577.007,1298.59 583.665,1291.2 590.324,1283.79 596.982,1276.38 \n",
       "  603.64,1268.97 610.298,1261.57 616.956,1254.17 623.615,1246.8 630.273,1239.45 636.931,1232.11 643.589,1224.81 650.247,1217.53 656.906,1210.28 663.564,1203.06 \n",
       "  670.222,1195.88 676.88,1188.73 683.539,1181.61 690.197,1174.53 696.855,1167.48 703.513,1160.47 710.171,1153.5 716.83,1146.56 723.488,1139.66 730.146,1132.8 \n",
       "  736.804,1125.97 743.462,1119.18 750.121,1112.43 756.779,1105.72 763.437,1099.04 770.095,1092.39 776.754,1085.79 783.412,1079.21 790.07,1072.68 796.728,1066.18 \n",
       "  803.386,1059.71 810.045,1053.28 816.703,1046.88 823.361,1040.52 830.019,1034.19 836.678,1027.89 843.336,1021.63 849.994,1015.39 856.652,1009.19 863.31,1003.02 \n",
       "  869.969,996.886 876.627,990.779 883.285,984.703 889.943,978.657 896.601,972.64 903.26,966.653 909.918,960.695 916.576,954.765 923.234,948.864 929.893,942.991 \n",
       "  936.551,937.146 943.209,931.328 949.867,925.537 956.525,919.772 963.184,914.034 969.842,908.322 976.5,902.636 983.158,896.975 989.816,891.339 996.475,885.728 \n",
       "  1003.13,880.142 1009.79,874.579 1016.45,869.041 1023.11,863.527 1029.77,858.035 1036.42,852.567 1043.08,847.122 1049.74,841.699 1056.4,836.299 1063.06,830.921 \n",
       "  1069.72,825.564 1076.37,820.23 1083.03,814.916 1089.69,809.624 1096.35,804.352 1103.01,799.101 1109.66,793.871 1116.32,788.661 1122.98,783.47 1129.64,778.3 \n",
       "  1136.3,773.149 1142.96,768.017 1149.61,762.905 1156.27,757.811 1162.93,752.736 1169.59,747.68 1176.25,742.642 1182.9,737.622 1189.56,732.621 1196.22,727.637 \n",
       "  1202.88,722.67 1209.54,717.721 1216.2,712.79 1222.85,707.875 1229.51,702.978 1236.17,698.097 1242.83,693.233 1249.49,688.385 1256.15,683.554 1262.8,678.739 \n",
       "  1269.46,673.94 1276.12,669.156 1282.78,664.389 1289.44,659.637 1296.09,654.9 1302.75,650.179 1309.41,645.473 1316.07,640.782 1322.73,636.106 1329.39,631.445 \n",
       "  1336.04,626.799 1342.7,622.167 1349.36,617.55 1356.02,612.946 1362.68,608.358 1369.33,603.783 1375.99,599.222 1382.65,594.676 1389.31,590.143 1395.97,585.623 \n",
       "  1402.63,581.118 1409.28,576.626 1415.94,572.147 1422.6,567.682 1429.26,563.23 1435.92,558.792 1442.58,554.366 1449.23,549.954 1455.89,545.554 1462.55,541.168 \n",
       "  1469.21,536.794 1475.87,532.433 1482.52,528.085 1489.18,523.75 1495.84,519.427 1502.5,515.117 1509.16,510.82 1515.82,506.535 1522.47,502.262 1529.13,498.002 \n",
       "  1535.79,493.754 1542.45,489.519 1549.11,485.296 1555.76,481.086 1562.42,476.888 1569.08,472.702 1575.74,468.529 1582.4,464.368 1589.06,460.22 1595.71,456.083 \n",
       "  1602.37,451.96 1609.03,447.848 1615.69,443.75 1622.35,439.664 1629.01,435.59 1635.66,431.529 1642.32,427.481 1648.98,423.445 1655.64,419.422 1662.3,415.412 \n",
       "  1668.95,411.415 1675.61,407.432 1682.27,403.461 1688.93,399.504 1695.59,395.56 1702.25,391.629 1708.9,387.713 1715.56,383.81 1722.22,379.921 1728.88,376.046 \n",
       "  1735.54,372.186 1742.19,368.34 1748.85,364.509 1755.51,360.693 1762.17,356.891 1768.83,353.106 1775.49,349.336 1782.14,345.582 1788.8,341.844 1795.46,338.122 \n",
       "  1802.12,334.417 1808.78,330.73 1815.44,327.059 1822.09,323.407 1828.75,319.773 1835.41,316.157 1842.07,312.56 1848.73,308.983 1855.38,305.425 1862.04,301.888 \n",
       "  1868.7,298.371 1875.36,294.876 1882.02,291.402 1888.68,287.951 1895.33,284.523 1901.99,281.118 1908.65,277.737 1915.31,274.381 1921.97,271.051 1928.62,267.746 \n",
       "  1935.28,264.469 1941.94,261.219 1948.6,257.998 1955.26,254.806 1961.92,251.644 1968.57,248.513 1975.23,245.414 1981.89,242.348 1988.55,239.315 1995.21,236.318 \n",
       "  2001.87,233.356 2008.52,230.432 2015.18,227.546 2021.84,224.699 2028.5,221.893 2035.16,219.129 2041.81,216.409 2048.47,213.733 2055.13,211.103 2061.79,208.521 \n",
       "  2068.45,205.988 2075.11,203.506 2081.76,201.076 2088.42,198.7 2095.08,196.38 2101.74,194.118 2108.4,191.915 2115.05,189.774 2121.71,187.697 2128.37,185.685 \n",
       "  2135.03,183.741 2141.69,181.867 2148.35,180.066 2155,178.339 2161.66,176.69 2168.32,175.121 2174.98,173.634 2181.64,172.232 2188.3,170.919 2194.95,169.696 \n",
       "  2201.61,168.567 2208.27,167.536 2214.93,166.605 2221.59,165.777 2228.24,165.056 2234.9,164.446 2241.56,163.951 2248.22,163.573 2254.88,163.317 2261.54,163.187 \n",
       "  \n",
       "  \"/>\n",
       "</svg>\n"
      ]
     },
     "execution_count": 57,
     "metadata": {},
     "output_type": "execute_result"
    }
   ],
   "source": [
    "v = r.zero + S \n",
    "plot(v, title = \"Value Function for Vanilla Model\", legend = false, xlabel = \"x\", ylabel = \"v(x)\")"
   ]
  },
  {
   "cell_type": "markdown",
   "metadata": {},
   "source": [
    "## TBD\n",
    "\n",
    "------"
   ]
  },
  {
   "cell_type": "markdown",
   "metadata": {},
   "source": [
    "- upwind scheme\n",
    "- 1D LCP (NLsolve, PATHSolver)\n",
    "- Should really get some JuMP in there...\n",
    "- Multiple dimensions\n",
    "- Discretization\n",
    "- probably simulate the process"
   ]
  },
  {
   "cell_type": "code",
   "execution_count": null,
   "metadata": {},
   "outputs": [],
   "source": []
  }
 ],
 "metadata": {
  "kernelspec": {
   "display_name": "Julia 1.1.0",
   "language": "julia",
   "name": "julia-1.1"
  },
  "language_info": {
   "file_extension": ".jl",
   "mimetype": "application/julia",
   "name": "julia",
   "version": "1.1.0"
  }
 },
 "nbformat": 4,
 "nbformat_minor": 2
}
