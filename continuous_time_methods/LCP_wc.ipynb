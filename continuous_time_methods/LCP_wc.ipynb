{
 "cells": [
  {
   "cell_type": "markdown",
   "metadata": {},
   "source": [
    "# Solving Optimal Stopping problems using LCP:\n",
    "\n",
    "\n",
    "## Introduction:\n",
    "\n",
    "An optimal stopping problem is a problem that requires an agent to choose an optimal stopping time in order to maximize (or minimize) some value.\n",
    "\n",
    "An example of a simple optimal stopping problem is choosing the optimal shut-down time of a plant. Given a state variable $x_t$, continuing the plant's operations at time $t$ one obtains profit $u(x_t)$ discounted by $e^{-\\rho t}$, where $\\rho$ is the discount factor. While choosing to shut down the plant at time $t=\\tau$ one no longer ooptains any profits from the plant, however, one obtains a one time profit of $S(x_{\\tau})$ discounted by $e^{-\\rho \\tau}$. We can think of this value $S(x_{\\tau})$ as the profit from liquidating the assets of the plant. \n",
    "\n",
    "To make this problem simple, we can assume that $x_t$ is exogenous, that is, the agent has no control over $\\{x_{t}\\}_{t=0}^{\\infty}$. \n",
    "\n",
    "We could for instance consider the case where $x_t$ follows a Brownian diffusion\n",
    "\n",
    "$$x_t = \\mu(x_t)dt + \\sigma(x_t)dW_t$$\n",
    "\n",
    "To ensure that the plant will eventually shut down, we consider the case where $\\mu(x) < 0$ for all $x$. \n",
    "\n",
    "Thus, we can formulate the optimal stopping problem as:\n",
    "\n",
    "$$v(x) = \\max_{\\tau}\\mathbb{E}_0\\int_{0}^{\\tau}e^{-\\rho t} u(x_t)dt + e^{-\\rho \\tau}S(x_{\\tau}),\\hspace{1cm} dx_t = \\mu(x_t)dt+\\sigma(x_t)dt$$\n"
   ]
  },
  {
   "cell_type": "markdown",
   "metadata": {},
   "source": [
    "\n",
    "## Hamilton-Jacobi Bellman Variational Inequality\n",
    "\n",
    "For values of $x$ such that the plant does not exit, the following HJB equation holds\n",
    "\n",
    "$$\\rho v(x) = u(x) + \\mu(x)v'(x) + \\frac{\\sigma^2(x)}{2}v''(x)$$\n",
    "\n",
    "Define $X$ to be the set of $x$ for which there is no exit. Then\n",
    "\n",
    "- $x\\in X: v(x)\\geq S(x)\\hspace{1cm} $ (i.e the value of not exiting, $v(x)$, is at least as great as the value of exiting $S(x)$)\n",
    "\n",
    "- $x\\notin X: v(x) = S(x)\\hspace{1cm}$ (i.e. the maximum possible value, $v(x)$, is the value of choosing to exit, $S(x)$ \n",
    "\n",
    "Which then leads to:\n",
    "\n",
    "- $x\\in X: v(x)\\geq S(x), \\rho v(x) = u(x)+\\mu(x)v'(x) +\\frac{\\sigma^2(x)}{2}v''(x)$\n",
    "\n",
    "- $x\\notin X$: v(x) = S(x), \\rho v(x) \\geq u(x)+\\mu(x)v'(x) +\\frac{\\sigma^2(x)}{2}v''(x)$\n",
    "\n",
    "\n",
    "This can be written compactly as a HJB variational inequality:\n",
    "\n",
    "$$\\min\\{\\rho v(x) - u(x)-\\mu(x)v'(x) -\\frac{\\sigma^2(x)}{2}v''(x), v(x) - S(x)\\} = 0$$"
   ]
  },
  {
   "cell_type": "markdown",
   "metadata": {},
   "source": [
    "## Solving the HJBVI as a Linear Complementarity Problem\n",
    "\n",
    "Without the exit option the HJB can be discretized as\n",
    "\n",
    "$$\\rho v_i^n = u_i + \\mu_i(v_i^n)' + \\frac{\\sigma^2_i}{2}(v_i^n)''$$\n",
    "\n",
    "Denoting the differential operator on $v$ by $A$, we can equivalently write the above as\n",
    "\n",
    "$$ \\rho v = u + Av$$\n",
    "\n",
    "Hence we can rewrite the earlier HJBVI in discretized form:\n",
    "\n",
    "$$\\min\\{\\rho v - u - Av, v- S\\} = 0$$\n",
    "\n",
    "Furthermore, this the above HJBVI can be equivalently written as:\n",
    "\n",
    "- $(v-S)^T(\\rho v - u - Av) = 0$\n",
    "\n",
    "- $v\\geq S$\n",
    "\n",
    "- $\\rho v - u - Av\\geq 0 $\n",
    "\n",
    "Noting the form of an LCP in the appendix, we can rewrite the above problem as follows.\n",
    "\n",
    "Denote the \"excess value\" $z =  v - S$, $B = \\rho I - A$, and $q = -u + BS$.\n",
    "\n",
    "Then problem can be written as:\n",
    "\n",
    "- $z^T(Bz + q) = 0$\n",
    "\n",
    "- $z \\geq 0$ \n",
    "\n",
    "- $Bz+q \\geq  0$  \n",
    "\n",
    "This is the standard form for LCPs (as denoted in the appendix). We can thus proceed to solve this problem, obtaining a solution $z$, using a LCP solver. From there, we can obtain a solution to our original problem $v = z + S$. \n",
    "\n",
    "Reference: Ben Moll's notes \"Exercising an Option: Numerical Solution\""
   ]
  },
  {
   "cell_type": "markdown",
   "metadata": {},
   "source": [
    "## Example Problem\n",
    "\n",
    "We are given an optimal stopping problem:\n",
    "\n",
    "$$v(x) = \\max_{\\tau}\\mathbb{E}_0\\int_{0}^{\\tau}e^{-\\rho t} u(x_t)dt + e^{-\\rho \\tau}S(x_{\\tau}),\\hspace{1cm} dx_t = \\mu(x_t)dt+\\sigma(x_t)dt$$\n",
    "\n",
    "where the parameters of the stochastic process, discount factor, utility, and stopping-value are:\n",
    "\n",
    "- $\\mu(x) = -0.01x$ for all $x$\n",
    "- $\\sigma^2(x) = (0.01x)^2$\n",
    "- $S(x)= 10$ for all $x$ \n",
    "- $\\gamma = 0.5$ where $u(x)  = x^\\gamma$ \n",
    "- $\\rho = 0.05$\n",
    "\n",
    "We will also discretize the problem on the interval $[0.01, 1.0]$ utilizing $1000$ grid points.\n",
    "\n",
    "We create the stopping problem below:"
   ]
  },
  {
   "cell_type": "code",
   "execution_count": 2,
   "metadata": {
    "collapsed": false
   },
   "outputs": [
    {
     "data": {
      "text/plain": [
       "#4 (generic function with 2 methods)"
      ]
     },
     "execution_count": 2,
     "metadata": {},
     "output_type": "execute_result"
    }
   ],
   "source": [
    "using Parameters, LinearAlgebra\n",
    "\n",
    "StoppingProblem = @with_kw (μ_bar = -0.01, \n",
    "                            σ_bar = 0.01, \n",
    "                            S_bar = 10.0, \n",
    "                            γ = 0.5, # u(x) = x^γ\n",
    "                            ρ = 0.05, # discount rate\n",
    "                            x_min = 0.01,\n",
    "                            x_max = 1.0,\n",
    "                            M = 1000) # num of grid points "
   ]
  },
  {
   "cell_type": "markdown",
   "metadata": {},
   "source": [
    "Let's also copy the discretization method from [PTW](https://github.com/jlperla/PerlaTonettiWaugh.jl/commits/master/src/utils/diffusionoperators.jl). This is for a reflecting barrier at each boundary. \n",
    "\n",
    "-- in order to create the linear operator for the discretized problem. "
   ]
  },
  {
   "cell_type": "code",
   "execution_count": 3,
   "metadata": {
    "collapsed": false
   },
   "outputs": [
    {
     "data": {
      "text/plain": [
       "diffusionoperators (generic function with 1 method)"
      ]
     },
     "execution_count": 3,
     "metadata": {},
     "output_type": "execute_result"
    }
   ],
   "source": [
    "# Diffusion operators with regular grids\n",
    "function diffusionoperators(x::AbstractRange; ξ = 0.0) # ξ = 0.0 corresponds to the unrescaled case from PTW\n",
    "    Δ = step(x)\n",
    "    P = length(x)\n",
    "\n",
    "    dl_1 = zeros(P-1)\n",
    "    d_1 = -ones(P)\n",
    "    du_1 = ones(P-1)\n",
    "    d_1[end] = d_1[end] + du_1[end] * (1-ξ*Δ)\n",
    "    L_1_plus = Tridiagonal(dl_1, d_1, du_1)/Δ\n",
    "\n",
    "    dl_m1 = -ones(P-1)\n",
    "    d_m1 = ones(P)\n",
    "    du_m1 = zeros(P-1)\n",
    "    d_m1[1] = d_m1[1] + dl_m1[1] * (1+ξ*Δ)\n",
    "    L_1_minus = Tridiagonal(dl_m1, d_m1, du_m1)/Δ\n",
    "\n",
    "    dl_2 = ones(P-1)\n",
    "    d_2 = -2 * ones(P)\n",
    "    d_2[1] = -2 + (1+ξ*Δ)\n",
    "    d_2[end] = -2 + (1-ξ*Δ)\n",
    "    du_2 = ones(P-1)\n",
    "    L_2 = Tridiagonal(dl_2, d_2, du_2)/(Δ^2)\n",
    "\n",
    "    return (x, L_1_minus, L_1_plus, L_2)\n",
    "end"
   ]
  },
  {
   "cell_type": "markdown",
   "metadata": {},
   "source": [
    "### Approach 1: Simplest LCP with PATHSolver.jl\n",
    "-------\n",
    "\n",
    "Here, we consider the case with constrant drift $\\mu(x) = \\bar{\\mu}$, stopping value $S(x) \\equiv \\bar{S}$, and variance $\\sigma(x) = \\bar{\\sigma}$.\n",
    "\n",
    "First, here's a function to take model parameters and return LCP objects."
   ]
  },
  {
   "cell_type": "code",
   "execution_count": 4,
   "metadata": {
    "collapsed": false
   },
   "outputs": [
    {
     "data": {
      "text/plain": [
       "LCP_objects (generic function with 1 method)"
      ]
     },
     "execution_count": 4,
     "metadata": {},
     "output_type": "execute_result"
    }
   ],
   "source": [
    "function LCP_objects(sp)\n",
    "    # setup work \n",
    "    @unpack μ_bar, σ_bar, S_bar, γ, ρ, x_min, x_max, M = sp \n",
    "    grid = range(x_min, x_max, length = M)\n",
    "    tmp, L_1_minus, L_1_plus, L_2 = diffusionoperators(grid) \n",
    "    μ = μ_bar \n",
    "    S = x -> S_bar \n",
    "    u = x -> x^γ # L36 from MATLAB\n",
    "    σ = σ_bar \n",
    "    # construct objects\n",
    "    A = μ * L_1_minus + 1/2 * σ^2 * L_2 # stochastic generator. use L_1_minus because drift is always negative\n",
    "    B = ρ*I - A \n",
    "    S_vec = S.(grid)\n",
    "    -u.(grid)\n",
    "    q_vec = -u.(grid) + B*S_vec\n",
    "    # return \n",
    "    return (A = A, B = B, S = S_vec, q = q_vec)\n",
    "end"
   ]
  },
  {
   "cell_type": "markdown",
   "metadata": {},
   "source": [
    "Let's generate these objects for the default case."
   ]
  },
  {
   "cell_type": "code",
   "execution_count": 5,
   "metadata": {
    "collapsed": true
   },
   "outputs": [],
   "source": [
    "sp = StoppingProblem()\n",
    "@unpack A, B, S, q = LCP_objects(sp);"
   ]
  },
  {
   "cell_type": "markdown",
   "metadata": {},
   "source": [
    "This suggests the following linear complementarity problem:\n",
    "\n",
    "$$ \n",
    "\\begin{align}\n",
    "z'(\\mathbf{B}z + q) &= 0 \\\\ \n",
    "z &\\geq 0 \\\\ \n",
    "\\mathbf{B}z + q &\\geq 0\n",
    "\\end{align}\n",
    "$$\n",
    "\n",
    "Let's give it to PATHSolver."
   ]
  },
  {
   "cell_type": "code",
   "execution_count": 6,
   "metadata": {
    "collapsed": false
   },
   "outputs": [],
   "source": [
    "using PATHSolver"
   ]
  },
  {
   "cell_type": "code",
   "execution_count": 7,
   "metadata": {
    "collapsed": false
   },
   "outputs": [
    {
     "name": "stdout",
     "output_type": "stream",
     "text": [
      "  1.484931 seconds (3.40 M allocations: 197.787 MiB, 4.39% gc time)\n",
      "Reading options file path.opt\n",
      " > convergence_tolerance 1.0e-12\n",
      "Read of options file complete.\n",
      "\n",
      "1000 row/cols, 2998 non-zeros, 0.30% dense.\n",
      "\n",
      "Path 4.7.03 (Thu Jan 24 15:44:12 2013)\n",
      "Written by Todd Munson, Steven Dirkse, and Michael Ferris\n",
      "\n",
      " ** EXIT - other error.\n"
     ]
    },
    {
     "data": {
      "text/plain": [
       "(:StationaryPointFound, [0.0, 0.0, 0.0, 0.0, 0.0, 0.0, 0.0, 0.0, 0.0, 0.0  …  7.6867, 7.69559, 7.70406, 7.71202, 7.71937, 7.72598, 7.73171, 7.73638, 7.73977, 7.74162], [0.4, 0.395162, 0.390538, 0.386101, 0.381831, 0.37771, 0.373723, 0.369858, 0.366105, 0.362454  …  -3.58602e-14, 1.84297e-14, -7.07212e-14, 2.39808e-14, -3.58602e-14, 5.09592e-14, 8.43769e-14, -1.4877e-14, 7.63833e-14, 5.68434e-14])"
      ]
     },
     "execution_count": 7,
     "metadata": {},
     "output_type": "execute_result"
    }
   ],
   "source": [
    "f = z -> B*z + q\n",
    "n = sp.M\n",
    "lb = zeros(n)\n",
    "ub = 1000*ones(n) # a reasonable guess?\n",
    "options(convergence_tolerance = 1e-12, output = :no, time_limit = 600) # 10 minute budget\n",
    "@time exit_code, sol_z, sol_f = solveLCP(f, lb, ub)"
   ]
  },
  {
   "cell_type": "markdown",
   "metadata": {},
   "source": [
    "Let's generate these objects for the default case."
   ]
  },
  {
   "cell_type": "code",
   "execution_count": 8,
   "metadata": {
    "collapsed": false
   },
   "outputs": [
    {
     "data": {
      "text/plain": [
       ":StationaryPointFound"
      ]
     },
     "execution_count": 8,
     "metadata": {},
     "output_type": "execute_result"
    }
   ],
   "source": [
    "exit_code # this lets us handle logic like converged(exit_code) || error(\"foobar\")"
   ]
  },
  {
   "cell_type": "markdown",
   "metadata": {},
   "source": [
    "Now, we can unpack the solutions and plot them."
   ]
  },
  {
   "cell_type": "code",
   "execution_count": 13,
   "metadata": {
    "collapsed": false
   },
   "outputs": [
    {
     "data": {
      "image/svg+xml": [
       "<?xml version=\"1.0\" encoding=\"utf-8\"?>\n",
       "<svg xmlns=\"http://www.w3.org/2000/svg\" xmlns:xlink=\"http://www.w3.org/1999/xlink\" width=\"600\" height=\"400\" viewBox=\"0 0 2400 1600\">\n",
       "<defs>\n",
       "  <clipPath id=\"clip7600\">\n",
       "    <rect x=\"0\" y=\"0\" width=\"2000\" height=\"2000\"/>\n",
       "  </clipPath>\n",
       "</defs>\n",
       "<defs>\n",
       "  <clipPath id=\"clip7601\">\n",
       "    <rect x=\"0\" y=\"0\" width=\"2400\" height=\"1600\"/>\n",
       "  </clipPath>\n",
       "</defs>\n",
       "<polygon clip-path=\"url(#clip7601)\" points=\"\n",
       "0,1600 2400,1600 2400,0 0,0 \n",
       "  \" fill=\"#ffffff\" fill-rule=\"evenodd\" fill-opacity=\"1\"/>\n",
       "<defs>\n",
       "  <clipPath id=\"clip7602\">\n",
       "    <rect x=\"480\" y=\"0\" width=\"1681\" height=\"1600\"/>\n",
       "  </clipPath>\n",
       "</defs>\n",
       "<polygon clip-path=\"url(#clip7601)\" points=\"\n",
       "211.005,1440.48 2321.26,1440.48 2321.26,125.984 211.005,125.984 \n",
       "  \" fill=\"#ffffff\" fill-rule=\"evenodd\" fill-opacity=\"1\"/>\n",
       "<defs>\n",
       "  <clipPath id=\"clip7603\">\n",
       "    <rect x=\"211\" y=\"125\" width=\"2111\" height=\"1315\"/>\n",
       "  </clipPath>\n",
       "</defs>\n",
       "<polyline clip-path=\"url(#clip7603)\" style=\"stroke:#000000; stroke-width:2; stroke-opacity:0.1; fill:none\" points=\"\n",
       "  268.736,1440.48 268.736,125.984 \n",
       "  \"/>\n",
       "<polyline clip-path=\"url(#clip7603)\" style=\"stroke:#000000; stroke-width:2; stroke-opacity:0.1; fill:none\" points=\"\n",
       "  766.936,1440.48 766.936,125.984 \n",
       "  \"/>\n",
       "<polyline clip-path=\"url(#clip7603)\" style=\"stroke:#000000; stroke-width:2; stroke-opacity:0.1; fill:none\" points=\"\n",
       "  1265.14,1440.48 1265.14,125.984 \n",
       "  \"/>\n",
       "<polyline clip-path=\"url(#clip7603)\" style=\"stroke:#000000; stroke-width:2; stroke-opacity:0.1; fill:none\" points=\"\n",
       "  1763.34,1440.48 1763.34,125.984 \n",
       "  \"/>\n",
       "<polyline clip-path=\"url(#clip7603)\" style=\"stroke:#000000; stroke-width:2; stroke-opacity:0.1; fill:none\" points=\"\n",
       "  2261.54,1440.48 2261.54,125.984 \n",
       "  \"/>\n",
       "<polyline clip-path=\"url(#clip7603)\" style=\"stroke:#000000; stroke-width:2; stroke-opacity:0.1; fill:none\" points=\"\n",
       "  211.005,1403.28 2321.26,1403.28 \n",
       "  \"/>\n",
       "<polyline clip-path=\"url(#clip7603)\" style=\"stroke:#000000; stroke-width:2; stroke-opacity:0.1; fill:none\" points=\"\n",
       "  211.005,1082.91 2321.26,1082.91 \n",
       "  \"/>\n",
       "<polyline clip-path=\"url(#clip7603)\" style=\"stroke:#000000; stroke-width:2; stroke-opacity:0.1; fill:none\" points=\"\n",
       "  211.005,762.539 2321.26,762.539 \n",
       "  \"/>\n",
       "<polyline clip-path=\"url(#clip7603)\" style=\"stroke:#000000; stroke-width:2; stroke-opacity:0.1; fill:none\" points=\"\n",
       "  211.005,442.169 2321.26,442.169 \n",
       "  \"/>\n",
       "<polyline clip-path=\"url(#clip7601)\" style=\"stroke:#000000; stroke-width:4; stroke-opacity:1; fill:none\" points=\"\n",
       "  211.005,1440.48 2321.26,1440.48 \n",
       "  \"/>\n",
       "<polyline clip-path=\"url(#clip7601)\" style=\"stroke:#000000; stroke-width:4; stroke-opacity:1; fill:none\" points=\"\n",
       "  211.005,1440.48 211.005,125.984 \n",
       "  \"/>\n",
       "<polyline clip-path=\"url(#clip7601)\" style=\"stroke:#000000; stroke-width:4; stroke-opacity:1; fill:none\" points=\"\n",
       "  268.736,1440.48 268.736,1420.77 \n",
       "  \"/>\n",
       "<polyline clip-path=\"url(#clip7601)\" style=\"stroke:#000000; stroke-width:4; stroke-opacity:1; fill:none\" points=\"\n",
       "  766.936,1440.48 766.936,1420.77 \n",
       "  \"/>\n",
       "<polyline clip-path=\"url(#clip7601)\" style=\"stroke:#000000; stroke-width:4; stroke-opacity:1; fill:none\" points=\"\n",
       "  1265.14,1440.48 1265.14,1420.77 \n",
       "  \"/>\n",
       "<polyline clip-path=\"url(#clip7601)\" style=\"stroke:#000000; stroke-width:4; stroke-opacity:1; fill:none\" points=\"\n",
       "  1763.34,1440.48 1763.34,1420.77 \n",
       "  \"/>\n",
       "<polyline clip-path=\"url(#clip7601)\" style=\"stroke:#000000; stroke-width:4; stroke-opacity:1; fill:none\" points=\"\n",
       "  2261.54,1440.48 2261.54,1420.77 \n",
       "  \"/>\n",
       "<polyline clip-path=\"url(#clip7601)\" style=\"stroke:#000000; stroke-width:4; stroke-opacity:1; fill:none\" points=\"\n",
       "  211.005,1403.28 242.659,1403.28 \n",
       "  \"/>\n",
       "<polyline clip-path=\"url(#clip7601)\" style=\"stroke:#000000; stroke-width:4; stroke-opacity:1; fill:none\" points=\"\n",
       "  211.005,1082.91 242.659,1082.91 \n",
       "  \"/>\n",
       "<polyline clip-path=\"url(#clip7601)\" style=\"stroke:#000000; stroke-width:4; stroke-opacity:1; fill:none\" points=\"\n",
       "  211.005,762.539 242.659,762.539 \n",
       "  \"/>\n",
       "<polyline clip-path=\"url(#clip7601)\" style=\"stroke:#000000; stroke-width:4; stroke-opacity:1; fill:none\" points=\"\n",
       "  211.005,442.169 242.659,442.169 \n",
       "  \"/>\n",
       "<g clip-path=\"url(#clip7601)\">\n",
       "<text style=\"fill:#000000; fill-opacity:1; font-family:Arial,Helvetica Neue,Helvetica,sans-serif; font-size:48px; text-anchor:middle;\" transform=\"rotate(0, 268.736, 1494.48)\" x=\"268.736\" y=\"1494.48\">0</text>\n",
       "</g>\n",
       "<g clip-path=\"url(#clip7601)\">\n",
       "<text style=\"fill:#000000; fill-opacity:1; font-family:Arial,Helvetica Neue,Helvetica,sans-serif; font-size:48px; text-anchor:middle;\" transform=\"rotate(0, 766.936, 1494.48)\" x=\"766.936\" y=\"1494.48\">250</text>\n",
       "</g>\n",
       "<g clip-path=\"url(#clip7601)\">\n",
       "<text style=\"fill:#000000; fill-opacity:1; font-family:Arial,Helvetica Neue,Helvetica,sans-serif; font-size:48px; text-anchor:middle;\" transform=\"rotate(0, 1265.14, 1494.48)\" x=\"1265.14\" y=\"1494.48\">500</text>\n",
       "</g>\n",
       "<g clip-path=\"url(#clip7601)\">\n",
       "<text style=\"fill:#000000; fill-opacity:1; font-family:Arial,Helvetica Neue,Helvetica,sans-serif; font-size:48px; text-anchor:middle;\" transform=\"rotate(0, 1763.34, 1494.48)\" x=\"1763.34\" y=\"1494.48\">750</text>\n",
       "</g>\n",
       "<g clip-path=\"url(#clip7601)\">\n",
       "<text style=\"fill:#000000; fill-opacity:1; font-family:Arial,Helvetica Neue,Helvetica,sans-serif; font-size:48px; text-anchor:middle;\" transform=\"rotate(0, 2261.54, 1494.48)\" x=\"2261.54\" y=\"1494.48\">1000</text>\n",
       "</g>\n",
       "<g clip-path=\"url(#clip7601)\">\n",
       "<text style=\"fill:#000000; fill-opacity:1; font-family:Arial,Helvetica Neue,Helvetica,sans-serif; font-size:48px; text-anchor:end;\" transform=\"rotate(0, 187.005, 1420.78)\" x=\"187.005\" y=\"1420.78\">10</text>\n",
       "</g>\n",
       "<g clip-path=\"url(#clip7601)\">\n",
       "<text style=\"fill:#000000; fill-opacity:1; font-family:Arial,Helvetica Neue,Helvetica,sans-serif; font-size:48px; text-anchor:end;\" transform=\"rotate(0, 187.005, 1100.41)\" x=\"187.005\" y=\"1100.41\">12</text>\n",
       "</g>\n",
       "<g clip-path=\"url(#clip7601)\">\n",
       "<text style=\"fill:#000000; fill-opacity:1; font-family:Arial,Helvetica Neue,Helvetica,sans-serif; font-size:48px; text-anchor:end;\" transform=\"rotate(0, 187.005, 780.039)\" x=\"187.005\" y=\"780.039\">14</text>\n",
       "</g>\n",
       "<g clip-path=\"url(#clip7601)\">\n",
       "<text style=\"fill:#000000; fill-opacity:1; font-family:Arial,Helvetica Neue,Helvetica,sans-serif; font-size:48px; text-anchor:end;\" transform=\"rotate(0, 187.005, 459.669)\" x=\"187.005\" y=\"459.669\">16</text>\n",
       "</g>\n",
       "<g clip-path=\"url(#clip7601)\">\n",
       "<text style=\"fill:#000000; fill-opacity:1; font-family:Arial,Helvetica Neue,Helvetica,sans-serif; font-size:84px; text-anchor:middle;\" transform=\"rotate(0, 1266.13, 73.2)\" x=\"1266.13\" y=\"73.2\">Value Function for Vanilla Model</text>\n",
       "</g>\n",
       "<g clip-path=\"url(#clip7601)\">\n",
       "<text style=\"fill:#000000; fill-opacity:1; font-family:Arial,Helvetica Neue,Helvetica,sans-serif; font-size:66px; text-anchor:middle;\" transform=\"rotate(0, 1266.13, 1590.4)\" x=\"1266.13\" y=\"1590.4\">x</text>\n",
       "</g>\n",
       "<g clip-path=\"url(#clip7601)\">\n",
       "<text style=\"fill:#000000; fill-opacity:1; font-family:Arial,Helvetica Neue,Helvetica,sans-serif; font-size:66px; text-anchor:middle;\" transform=\"rotate(-90, 57.6, 783.233)\" x=\"57.6\" y=\"783.233\">v(x)</text>\n",
       "</g>\n",
       "<polyline clip-path=\"url(#clip7603)\" style=\"stroke:#009af9; stroke-width:4; stroke-opacity:1; fill:none\" points=\"\n",
       "  270.729,1403.28 272.722,1403.28 274.715,1403.28 276.708,1403.28 278.7,1403.28 280.693,1403.28 282.686,1403.28 284.679,1403.28 286.672,1403.28 288.664,1403.28 \n",
       "  290.657,1403.28 292.65,1403.28 294.643,1403.28 296.636,1403.28 298.628,1403.28 300.621,1403.28 302.614,1403.28 304.607,1403.28 306.6,1403.28 308.592,1403.28 \n",
       "  310.585,1403.28 312.578,1403.28 314.571,1403.28 316.564,1403.28 318.556,1403.28 320.549,1403.28 322.542,1403.28 324.535,1403.28 326.528,1403.28 328.52,1403.28 \n",
       "  330.513,1403.28 332.506,1403.28 334.499,1403.28 336.492,1403.28 338.484,1403.28 340.477,1403.28 342.47,1403.28 344.463,1403.28 346.456,1403.28 348.448,1403.28 \n",
       "  350.441,1403.28 352.434,1403.28 354.427,1403.28 356.42,1403.28 358.412,1403.28 360.405,1403.28 362.398,1403.28 364.391,1403.28 366.384,1403.28 368.376,1403.28 \n",
       "  370.369,1403.28 372.362,1403.28 374.355,1403.28 376.348,1403.28 378.34,1403.28 380.333,1403.28 382.326,1403.28 384.319,1403.28 386.312,1403.28 388.304,1403.28 \n",
       "  390.297,1403.28 392.29,1403.28 394.283,1403.28 396.276,1403.28 398.268,1403.28 400.261,1403.28 402.254,1403.28 404.247,1403.28 406.24,1403.28 408.232,1403.28 \n",
       "  410.225,1403.28 412.218,1403.28 414.211,1403.28 416.204,1403.28 418.196,1403.28 420.189,1403.28 422.182,1403.28 424.175,1403.28 426.168,1403.28 428.16,1403.28 \n",
       "  430.153,1403.28 432.146,1403.28 434.139,1403.28 436.132,1403.28 438.124,1403.28 440.117,1403.28 442.11,1403.28 444.103,1403.28 446.096,1403.28 448.088,1403.28 \n",
       "  450.081,1403.28 452.074,1403.28 454.067,1403.28 456.06,1403.28 458.052,1403.28 460.045,1403.28 462.038,1403.28 464.031,1403.28 466.024,1403.28 468.016,1403.28 \n",
       "  470.009,1403.28 472.002,1403.28 473.995,1403.28 475.988,1403.28 477.98,1403.28 479.973,1403.28 481.966,1403.28 483.959,1403.28 485.952,1403.28 487.944,1403.28 \n",
       "  489.937,1403.28 491.93,1403.28 493.923,1403.28 495.916,1403.28 497.908,1403.28 499.901,1403.28 501.894,1403.28 503.887,1403.28 505.88,1403.28 507.872,1403.28 \n",
       "  509.865,1403.28 511.858,1403.28 513.851,1403.28 515.843,1403.28 517.836,1403.28 519.829,1403.28 521.822,1403.28 523.815,1403.28 525.807,1403.28 527.8,1403.28 \n",
       "  529.793,1403.28 531.786,1403.28 533.779,1403.28 535.771,1403.28 537.764,1403.28 539.757,1403.28 541.75,1403.28 543.743,1403.28 545.735,1403.28 547.728,1403.28 \n",
       "  549.721,1403.28 551.714,1403.28 553.707,1403.28 555.699,1403.28 557.692,1403.28 559.685,1403.28 561.678,1403.28 563.671,1403.28 565.663,1403.28 567.656,1403.28 \n",
       "  569.649,1403.28 571.642,1403.28 573.635,1403.28 575.627,1403.28 577.62,1403.28 579.613,1403.28 581.606,1403.28 583.599,1403.28 585.591,1403.28 587.584,1403.28 \n",
       "  589.577,1403.28 591.57,1403.28 593.563,1403.28 595.555,1403.28 597.548,1403.28 599.541,1403.28 601.534,1403.28 603.527,1403.28 605.519,1403.28 607.512,1403.28 \n",
       "  609.505,1403.28 611.498,1403.28 613.491,1403.28 615.483,1403.28 617.476,1403.28 619.469,1403.28 621.462,1403.28 623.455,1403.28 625.447,1403.28 627.44,1403.28 \n",
       "  629.433,1403.28 631.426,1403.28 633.419,1403.28 635.411,1403.28 637.404,1403.28 639.397,1403.28 641.39,1403.28 643.383,1403.28 645.375,1403.28 647.368,1403.28 \n",
       "  649.361,1403.28 651.354,1403.28 653.347,1403.28 655.339,1403.28 657.332,1403.28 659.325,1403.28 661.318,1403.28 663.311,1403.28 665.303,1403.28 667.296,1403.28 \n",
       "  669.289,1403.28 671.282,1403.28 673.275,1403.28 675.267,1403.28 677.26,1403.28 679.253,1403.28 681.246,1403.28 683.239,1403.28 685.231,1403.28 687.224,1403.28 \n",
       "  689.217,1403.28 691.21,1403.28 693.203,1403.28 695.195,1403.28 697.188,1403.28 699.181,1403.28 701.174,1403.28 703.167,1403.28 705.159,1403.28 707.152,1403.28 \n",
       "  709.145,1403.28 711.138,1403.28 713.131,1403.28 715.123,1403.28 717.116,1403.28 719.109,1403.28 721.102,1403.28 723.095,1403.28 725.087,1403.28 727.08,1403.28 \n",
       "  729.073,1403.28 731.066,1403.28 733.059,1403.28 735.051,1403.28 737.044,1403.28 739.037,1403.28 741.03,1403.28 743.023,1403.28 745.015,1403.27 747.008,1403.24 \n",
       "  749.001,1403.2 750.994,1403.15 752.987,1403.08 754.979,1402.99 756.972,1402.89 758.965,1402.78 760.958,1402.65 762.951,1402.5 764.943,1402.34 766.936,1402.17 \n",
       "  768.929,1401.99 770.922,1401.79 772.915,1401.57 774.907,1401.34 776.9,1401.1 778.893,1400.85 780.886,1400.58 782.879,1400.29 784.871,1400 786.864,1399.69 \n",
       "  788.857,1399.37 790.85,1399.03 792.843,1398.68 794.835,1398.32 796.828,1397.95 798.821,1397.56 800.814,1397.16 802.807,1396.75 804.799,1396.33 806.792,1395.89 \n",
       "  808.785,1395.44 810.778,1394.98 812.771,1394.51 814.763,1394.02 816.756,1393.53 818.749,1393.02 820.742,1392.5 822.735,1391.96 824.727,1391.42 826.72,1390.86 \n",
       "  828.713,1390.3 830.706,1389.72 832.699,1389.13 834.691,1388.53 836.684,1387.91 838.677,1387.29 840.67,1386.65 842.663,1386.01 844.655,1385.35 846.648,1384.69 \n",
       "  848.641,1384.01 850.634,1383.32 852.627,1382.62 854.619,1381.91 856.612,1381.19 858.605,1380.46 860.598,1379.72 862.591,1378.97 864.583,1378.21 866.576,1377.44 \n",
       "  868.569,1376.66 870.562,1375.87 872.555,1375.07 874.547,1374.26 876.54,1373.44 878.533,1372.61 880.526,1371.77 882.519,1370.92 884.511,1370.06 886.504,1369.19 \n",
       "  888.497,1368.32 890.49,1367.43 892.483,1366.54 894.475,1365.63 896.468,1364.72 898.461,1363.8 900.454,1362.86 902.447,1361.92 904.439,1360.98 906.432,1360.02 \n",
       "  908.425,1359.05 910.418,1358.08 912.411,1357.09 914.403,1356.1 916.396,1355.1 918.389,1354.09 920.382,1353.08 922.375,1352.05 924.367,1351.02 926.36,1349.98 \n",
       "  928.353,1348.93 930.346,1347.87 932.339,1346.8 934.331,1345.73 936.324,1344.65 938.317,1343.56 940.31,1342.46 942.303,1341.36 944.295,1340.25 946.288,1339.13 \n",
       "  948.281,1338 950.274,1336.86 952.267,1335.72 954.259,1334.57 956.252,1333.42 958.245,1332.25 960.238,1331.08 962.231,1329.9 964.223,1328.72 966.216,1327.53 \n",
       "  968.209,1326.33 970.202,1325.12 972.195,1323.91 974.187,1322.69 976.18,1321.46 978.173,1320.23 980.166,1318.99 982.159,1317.74 984.151,1316.49 986.144,1315.23 \n",
       "  988.137,1313.96 990.13,1312.69 992.123,1311.41 994.115,1310.12 996.108,1308.83 998.101,1307.53 1000.09,1306.23 1002.09,1304.92 1004.08,1303.6 1006.07,1302.28 \n",
       "  1008.06,1300.95 1010.06,1299.62 1012.05,1298.28 1014.04,1296.93 1016.04,1295.58 1018.03,1294.22 1020.02,1292.86 1022.01,1291.49 1024.01,1290.11 1026,1288.73 \n",
       "  1027.99,1287.35 1029.99,1285.95 1031.98,1284.56 1033.97,1283.15 1035.96,1281.75 1037.96,1280.33 1039.95,1278.91 1041.94,1277.49 1043.94,1276.06 1045.93,1274.63 \n",
       "  1047.92,1273.19 1049.91,1271.74 1051.91,1270.29 1053.9,1268.84 1055.89,1267.38 1057.88,1265.91 1059.88,1264.44 1061.87,1262.97 1063.86,1261.49 1065.86,1260 \n",
       "  1067.85,1258.51 1069.84,1257.02 1071.83,1255.52 1073.83,1254.02 1075.82,1252.51 1077.81,1251 1079.81,1249.48 1081.8,1247.96 1083.79,1246.43 1085.78,1244.9 \n",
       "  1087.78,1243.37 1089.77,1241.83 1091.76,1240.28 1093.76,1238.74 1095.75,1237.18 1097.74,1235.63 1099.73,1234.07 1101.73,1232.5 1103.72,1230.93 1105.71,1229.36 \n",
       "  1107.7,1227.78 1109.7,1226.2 1111.69,1224.62 1113.68,1223.03 1115.68,1221.43 1117.67,1219.84 1119.66,1218.24 1121.65,1216.63 1123.65,1215.02 1125.64,1213.41 \n",
       "  1127.63,1211.79 1129.63,1210.17 1131.62,1208.55 1133.61,1206.92 1135.6,1205.29 1137.6,1203.66 1139.59,1202.02 1141.58,1200.38 1143.58,1198.73 1145.57,1197.08 \n",
       "  1147.56,1195.43 1149.55,1193.78 1151.55,1192.12 1153.54,1190.46 1155.53,1188.79 1157.52,1187.12 1159.52,1185.45 1161.51,1183.77 1163.5,1182.1 1165.5,1180.41 \n",
       "  1167.49,1178.73 1169.48,1177.04 1171.47,1175.35 1173.47,1173.66 1175.46,1171.96 1177.45,1170.26 1179.45,1168.55 1181.44,1166.85 1183.43,1165.14 1185.42,1163.43 \n",
       "  1187.42,1161.71 1189.41,1159.99 1191.4,1158.27 1193.4,1156.55 1195.39,1154.82 1197.38,1153.09 1199.37,1151.36 1201.37,1149.63 1203.36,1147.89 1205.35,1146.15 \n",
       "  1207.34,1144.41 1209.34,1142.66 1211.33,1140.91 1213.32,1139.16 1215.32,1137.41 1217.31,1135.65 1219.3,1133.89 1221.29,1132.13 1223.29,1130.37 1225.28,1128.6 \n",
       "  1227.27,1126.84 1229.27,1125.07 1231.26,1123.29 1233.25,1121.52 1235.24,1119.74 1237.24,1117.96 1239.23,1116.18 1241.22,1114.39 1243.22,1112.61 1245.21,1110.82 \n",
       "  1247.2,1109.03 1249.19,1107.24 1251.19,1105.44 1253.18,1103.64 1255.17,1101.84 1257.16,1100.04 1259.16,1098.24 1261.15,1096.43 1263.14,1094.62 1265.14,1092.81 \n",
       "  1267.13,1091 1269.12,1089.19 1271.11,1087.37 1273.11,1085.56 1275.1,1083.74 1277.09,1081.91 1279.09,1080.09 1281.08,1078.27 1283.07,1076.44 1285.06,1074.61 \n",
       "  1287.06,1072.78 1289.05,1070.95 1291.04,1069.11 1293.04,1067.28 1295.03,1065.44 1297.02,1063.6 1299.01,1061.76 1301.01,1059.92 1303,1058.07 1304.99,1056.23 \n",
       "  1306.98,1054.38 1308.98,1052.53 1310.97,1050.68 1312.96,1048.83 1314.96,1046.97 1316.95,1045.12 1318.94,1043.26 1320.93,1041.4 1322.93,1039.54 1324.92,1037.68 \n",
       "  1326.91,1035.82 1328.91,1033.95 1330.9,1032.09 1332.89,1030.22 1334.88,1028.35 1336.88,1026.48 1338.87,1024.61 1340.86,1022.74 1342.86,1020.87 1344.85,1018.99 \n",
       "  1346.84,1017.11 1348.83,1015.24 1350.83,1013.36 1352.82,1011.48 1354.81,1009.6 1356.8,1007.71 1358.8,1005.83 1360.79,1003.95 1362.78,1002.06 1364.78,1000.17 \n",
       "  1366.77,998.284 1368.76,996.395 1370.75,994.504 1372.75,992.612 1374.74,990.72 1376.73,988.826 1378.73,986.931 1380.72,985.035 1382.71,983.139 1384.7,981.241 \n",
       "  1386.7,979.342 1388.69,977.442 1390.68,975.541 1392.68,973.639 1394.67,971.737 1396.66,969.833 1398.65,967.929 1400.65,966.023 1402.64,964.117 1404.63,962.21 \n",
       "  1406.62,960.302 1408.62,958.393 1410.61,956.483 1412.6,954.573 1414.6,952.661 1416.59,950.749 1418.58,948.836 1420.57,946.922 1422.57,945.008 1424.56,943.093 \n",
       "  1426.55,941.177 1428.55,939.26 1430.54,937.343 1432.53,935.425 1434.52,933.506 1436.52,931.586 1438.51,929.666 1440.5,927.746 1442.5,925.824 1444.49,923.902 \n",
       "  1446.48,921.979 1448.47,920.056 1450.47,918.132 1452.46,916.208 1454.45,914.283 1456.44,912.357 1458.44,910.431 1460.43,908.504 1462.42,906.577 1464.42,904.649 \n",
       "  1466.41,902.721 1468.4,900.792 1470.39,898.863 1472.39,896.933 1474.38,895.003 1476.37,893.072 1478.37,891.141 1480.36,889.21 1482.35,887.277 1484.34,885.345 \n",
       "  1486.34,883.412 1488.33,881.479 1490.32,879.545 1492.32,877.611 1494.31,875.677 1496.3,873.742 1498.29,871.807 1500.29,869.872 1502.28,867.936 1504.27,866 \n",
       "  1506.26,864.063 1508.26,862.126 1510.25,860.189 1512.24,858.252 1514.24,856.314 1516.23,854.377 1518.22,852.438 1520.21,850.5 1522.21,848.561 1524.2,846.623 \n",
       "  1526.19,844.683 1528.19,842.744 1530.18,840.805 1532.17,838.865 1534.16,836.925 1536.16,834.985 1538.15,833.044 1540.14,831.104 1542.14,829.163 1544.13,827.222 \n",
       "  1546.12,825.282 1548.11,823.34 1550.11,821.399 1552.1,819.458 1554.09,817.516 1556.08,815.575 1558.08,813.633 1560.07,811.691 1562.06,809.75 1564.06,807.808 \n",
       "  1566.05,805.866 1568.04,803.924 1570.03,801.982 1572.03,800.04 1574.02,798.097 1576.01,796.155 1578.01,794.213 1580,792.271 1581.99,790.328 1583.98,788.386 \n",
       "  1585.98,786.444 1587.97,784.502 1589.96,782.559 1591.96,780.617 1593.95,778.675 1595.94,776.733 1597.93,774.791 1599.93,772.849 1601.92,770.907 1603.91,768.965 \n",
       "  1605.9,767.023 1607.9,765.081 1609.89,763.139 1611.88,761.198 1613.88,759.256 1615.87,757.315 1617.86,755.373 1619.85,753.432 1621.85,751.491 1623.84,749.55 \n",
       "  1625.83,747.609 1627.83,745.669 1629.82,743.728 1631.81,741.788 1633.8,739.848 1635.8,737.907 1637.79,735.968 1639.78,734.028 1641.78,732.088 1643.77,730.149 \n",
       "  1645.76,728.21 1647.75,726.271 1649.75,724.332 1651.74,722.393 1653.73,720.455 1655.72,718.517 1657.72,716.579 1659.71,714.641 1661.7,712.704 1663.7,710.767 \n",
       "  1665.69,708.83 1667.68,706.893 1669.67,704.956 1671.67,703.02 1673.66,701.084 1675.65,699.149 1677.65,697.213 1679.64,695.278 1681.63,693.343 1683.62,691.409 \n",
       "  1685.62,689.474 1687.61,687.54 1689.6,685.607 1691.6,683.673 1693.59,681.74 1695.58,679.808 1697.57,677.875 1699.57,675.943 1701.56,674.011 1703.55,672.08 \n",
       "  1705.54,670.149 1707.54,668.218 1709.53,666.288 1711.52,664.358 1713.52,662.428 1715.51,660.499 1717.5,658.57 1719.49,656.641 1721.49,654.713 1723.48,652.785 \n",
       "  1725.47,650.858 1727.47,648.931 1729.46,647.004 1731.45,645.078 1733.44,643.152 1735.44,641.227 1737.43,639.302 1739.42,637.377 1741.42,635.453 1743.41,633.529 \n",
       "  1745.4,631.606 1747.39,629.683 1749.39,627.76 1751.38,625.838 1753.37,623.917 1755.36,621.996 1757.36,620.075 1759.35,618.154 1761.34,616.235 1763.34,614.315 \n",
       "  1765.33,612.396 1767.32,610.478 1769.31,608.56 1771.31,606.642 1773.3,604.725 1775.29,602.809 1777.29,600.893 1779.28,598.977 1781.27,597.062 1783.26,595.147 \n",
       "  1785.26,593.233 1787.25,591.32 1789.24,589.406 1791.24,587.494 1793.23,585.582 1795.22,583.67 1797.21,581.759 1799.21,579.848 1801.2,577.938 1803.19,576.029 \n",
       "  1805.18,574.12 1807.18,572.211 1809.17,570.303 1811.16,568.396 1813.16,566.489 1815.15,564.583 1817.14,562.677 1819.13,560.772 1821.13,558.867 1823.12,556.963 \n",
       "  1825.11,555.059 1827.11,553.156 1829.1,551.254 1831.09,549.352 1833.08,547.45 1835.08,545.55 1837.07,543.649 1839.06,541.75 1841.06,539.851 1843.05,537.952 \n",
       "  1845.04,536.054 1847.03,534.157 1849.03,532.26 1851.02,530.364 1853.01,528.468 1855,526.573 1857,524.679 1858.99,522.785 1860.98,520.892 1862.98,518.999 \n",
       "  1864.97,517.108 1866.96,515.216 1868.95,513.325 1870.95,511.435 1872.94,509.546 1874.93,507.657 1876.93,505.769 1878.92,503.881 1880.91,501.994 1882.9,500.107 \n",
       "  1884.9,498.222 1886.89,496.336 1888.88,494.452 1890.87,492.568 1892.87,490.685 1894.86,488.802 1896.85,486.92 1898.85,485.039 1900.84,483.158 1902.83,481.278 \n",
       "  1904.82,479.398 1906.82,477.52 1908.81,475.642 1910.8,473.764 1912.8,471.887 1914.79,470.011 1916.78,468.136 1918.77,466.261 1920.77,464.387 1922.76,462.513 \n",
       "  1924.75,460.64 1926.75,458.768 1928.74,456.897 1930.73,455.026 1932.72,453.156 1934.72,451.286 1936.71,449.417 1938.7,447.549 1940.69,445.682 1942.69,443.815 \n",
       "  1944.68,441.949 1946.67,440.083 1948.67,438.219 1950.66,436.355 1952.65,434.491 1954.64,432.629 1956.64,430.767 1958.63,428.905 1960.62,427.045 1962.62,425.185 \n",
       "  1964.61,423.326 1966.6,421.467 1968.59,419.609 1970.59,417.752 1972.58,415.896 1974.57,414.04 1976.57,412.185 1978.56,410.331 1980.55,408.478 1982.54,406.625 \n",
       "  1984.54,404.773 1986.53,402.921 1988.52,401.07 1990.51,399.22 1992.51,397.371 1994.5,395.523 1996.49,393.675 1998.49,391.828 2000.48,389.981 2002.47,388.135 \n",
       "  2004.46,386.29 2006.46,384.446 2008.45,382.603 2010.44,380.76 2012.44,378.918 2014.43,377.076 2016.42,375.236 2018.41,373.396 2020.41,371.557 2022.4,369.718 \n",
       "  2024.39,367.881 2026.39,366.044 2028.38,364.208 2030.37,362.372 2032.36,360.537 2034.36,358.703 2036.35,356.87 2038.34,355.038 2040.33,353.206 2042.33,351.375 \n",
       "  2044.32,349.545 2046.31,347.715 2048.31,345.886 2050.3,344.058 2052.29,342.231 2054.28,340.404 2056.28,338.578 2058.27,336.753 2060.26,334.929 2062.26,333.105 \n",
       "  2064.25,331.283 2066.24,329.461 2068.23,327.639 2070.23,325.819 2072.22,323.999 2074.21,322.18 2076.21,320.362 2078.2,318.544 2080.19,316.727 2082.18,314.911 \n",
       "  2084.18,313.096 2086.17,311.281 2088.16,309.468 2090.15,307.655 2092.15,305.842 2094.14,304.031 2096.13,302.22 2098.13,300.41 2100.12,298.601 2102.11,296.793 \n",
       "  2104.1,294.985 2106.1,293.178 2108.09,291.372 2110.08,289.567 2112.08,287.762 2114.07,285.958 2116.06,284.155 2118.05,282.353 2120.05,280.552 2122.04,278.751 \n",
       "  2124.03,276.951 2126.03,275.152 2128.02,273.353 2130.01,271.556 2132,269.759 2134,267.963 2135.99,266.167 2137.98,264.373 2139.97,262.579 2141.97,260.786 \n",
       "  2143.96,258.994 2145.95,257.202 2147.95,255.412 2149.94,253.622 2151.93,251.833 2153.92,250.044 2155.92,248.257 2157.91,246.47 2159.9,244.684 2161.9,242.899 \n",
       "  2163.89,241.115 2165.88,239.331 2167.87,237.548 2169.87,235.767 2171.86,233.986 2173.85,232.205 2175.85,230.426 2177.84,228.648 2179.83,226.87 2181.82,225.093 \n",
       "  2183.82,223.318 2185.81,221.543 2187.8,219.77 2189.79,217.997 2191.79,216.226 2193.78,214.455 2195.77,212.687 2197.77,210.919 2199.76,209.153 2201.75,207.389 \n",
       "  2203.74,205.627 2205.74,203.867 2207.73,202.109 2209.72,200.354 2211.72,198.603 2213.71,196.854 2215.7,195.111 2217.69,193.372 2219.69,191.638 2221.68,189.912 \n",
       "  2223.67,188.193 2225.67,186.484 2227.66,184.787 2229.65,183.102 2231.64,181.434 2233.64,179.785 2235.63,178.158 2237.62,176.559 2239.61,174.992 2241.61,173.465 \n",
       "  2243.6,171.984 2245.59,170.56 2247.59,169.204 2249.58,167.929 2251.57,166.751 2253.56,165.692 2255.56,164.774 2257.55,164.026 2259.54,163.484 2261.54,163.187 \n",
       "  \n",
       "  \"/>\n",
       "</svg>\n"
      ]
     },
     "execution_count": 13,
     "metadata": {},
     "output_type": "execute_result"
    }
   ],
   "source": [
    "using Plots\n",
    "v = sol_z + S \n",
    "plot(v, title = \"Value Function for Vanilla Model\", legend = false, xlabel = \"x\", ylabel = \"v(x)\")"
   ]
  },
  {
   "cell_type": "markdown",
   "metadata": {},
   "source": [
    "This is the kind of thing we expect --- below some threshold you get the stopping value $S \\equiv 10$, and above it you get a smoothly increasing value."
   ]
  },
  {
   "cell_type": "markdown",
   "metadata": {},
   "source": [
    "## Appendix \n",
    "\n",
    "### LCP Problems:\n",
    "\n",
    "Source Wikipedia"
   ]
  }
 ],
 "metadata": {
  "kernelspec": {
   "display_name": "Julia 1.1.0",
   "language": "julia",
   "name": "julia-1.1"
  },
  "language_info": {
   "file_extension": ".jl",
   "mimetype": "application/julia",
   "name": "julia",
   "version": "1.1.0"
  }
 },
 "nbformat": 4,
 "nbformat_minor": 2
}
