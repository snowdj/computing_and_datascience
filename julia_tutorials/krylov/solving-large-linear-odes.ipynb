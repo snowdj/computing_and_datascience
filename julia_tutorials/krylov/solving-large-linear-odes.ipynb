{
 "cells": [
  {
   "cell_type": "markdown",
   "metadata": {},
   "source": [
    "# Solving large linear ODEs with matrix-free operators by Krylov methods\n",
    "\n",
    "Presented by Chiyoung Ahn (https://github.com/chiyahn)\n",
    "\n",
    "This notebook demonstrates how Julia `DiffEq` ecosystem can be used to solve large systems of linear ODEs rapidly."
   ]
  },
  {
   "cell_type": "code",
   "execution_count": null,
   "metadata": {},
   "outputs": [],
   "source": [
    "] add BenchmarkTools Parameters DifferentialEquations IterativeSolvers LinearMaps DiffEqOperators"
   ]
  },
  {
   "cell_type": "code",
   "execution_count": 2,
   "metadata": {
    "scrolled": false
   },
   "outputs": [
    {
     "data": {
      "text/plain": [
       "Plots.GRBackend()"
      ]
     },
     "execution_count": 2,
     "metadata": {},
     "output_type": "execute_result"
    }
   ],
   "source": [
    "# NOTE: should use the version e4e8e5419ed29193087130dc004d96e1530a5252 for DiffEqOperators\n",
    "# (https://github.com/JuliaDiffEq/DiffEqOperators.jl/commit/e4e8e5419ed29193087130dc004d96e1530a5252)\n",
    "using LinearAlgebra, SparseArrays, Parameters, DifferentialEquations, IterativeSolvers, LinearMaps, DiffEqOperators\n",
    "using Plots, BenchmarkTools\n",
    "gr(fmt = :png)"
   ]
  },
  {
   "cell_type": "markdown",
   "metadata": {},
   "source": [
    "## Solving linear ODEs with old school matrix-based operators"
   ]
  },
  {
   "cell_type": "markdown",
   "metadata": {},
   "source": [
    "Consider a continuous-time Markov chain model on a $N$-dimensional path with large $N$ and the following transition matrix:\n",
    "$$\n",
    "Q = \n",
    "\\begin{pmatrix}\n",
    "-\\theta & \\theta & 0 & ... & ...  & ...  & 0 \\\\\n",
    "\\theta/2 & -\\theta & \\theta/2 & 0  & \\ddots & ...& 0 \\\\\n",
    "0 & \\theta/2 & -\\theta & \\theta/2 & 0  & \\ddots  & \\vdots \\\\\n",
    "0 & 0 & \\theta/2 & -\\theta & \\theta/2 & 0 & \\vdots \\\\\n",
    "\\vdots & \\ddots & \\ddots & \\ddots & \\ddots  &\\ddots  & \\vdots \\\\\n",
    "0 & ... & ... & ... & 0 & \\theta & -\\theta\n",
    "\\end{pmatrix}\n",
    "$$\n",
    "For instance, for $\\theta = 0.5$ with $N = 4$, the chain is\n",
    "$$\n",
    "\\begin{pmatrix}\n",
    "-0.5 & 0.5 & 0 & 0 \\\\\n",
    "0.25 & -0.5 & 0.25 & 0 \\\\\n",
    "0 & 0.25 & -0.5 & 0.25 \\\\\n",
    "0 & 0 & 0.5 & -0.5\n",
    "\\end{pmatrix}\n",
    "$$\n",
    "\n",
    "For now we assume that $Q$ is time-independent; later in this tutorial we will consider time-variant Markov chain with discrete time steps. The path $f(t)$ associated with $Q$ at $t$ is determined by\n",
    "$$\n",
    "f'(t) = Q^T f(t)\n",
    "$$\n",
    "\n",
    "Creating a matrix for this particular model is relatively easy:"
   ]
  },
  {
   "cell_type": "code",
   "execution_count": 3,
   "metadata": {},
   "outputs": [
    {
     "data": {
      "text/plain": [
       "4×4 Array{Float64,2}:\n",
       " -0.5    0.5    0.0    0.0 \n",
       "  0.25  -0.5    0.25   0.0 \n",
       "  0.0    0.25  -0.5    0.25\n",
       "  0.0    0.0    0.5   -0.5 "
      ]
     },
     "metadata": {},
     "output_type": "display_data"
    }
   ],
   "source": [
    "function get_Q_T_matrix(N, θ) \n",
    "    # construct a base matrix\n",
    "    mat = spdiagm(-1 => fill(θ/2, N-1), 0 => fill(-θ, N), 1 => fill(θ/2, N-1))\n",
    "    # (1,2) and (N,N-1) elements should be 0.5\n",
    "    mat[1,2] = θ\n",
    "    mat[N,(N-1)] = θ\n",
    "    return mat'\n",
    "end\n",
    "\n",
    "# define transition matrix Q\n",
    "N_small = 4\n",
    "θ_VAL = 0.5\n",
    "Q_T = get_Q_T_matrix(N_small, θ_VAL)\n",
    "display(Matrix(Q_T')) # display Q"
   ]
  },
  {
   "cell_type": "markdown",
   "metadata": {},
   "source": [
    "so is solving the system:"
   ]
  },
  {
   "cell_type": "code",
   "execution_count": 4,
   "metadata": {
    "scrolled": false
   },
   "outputs": [
    {
     "name": "stdout",
     "output_type": "stream",
     "text": [
      "  154.901 μs (2785 allocations: 281.80 KiB)\n"
     ]
    },
    {
     "data": {
      "image/png": "[encoded data removed]"
     },
     "execution_count": 4,
     "metadata": {},
     "output_type": "execute_result"
    }
   ],
   "source": [
    "# solve model with matrix Q\n",
    "function solve_transition_dynamics_matrix()\n",
    "    # setups\n",
    "    N = 4\n",
    "    T = 40.0\n",
    "    f_0 = [1.0; fill(0.0, N-1)]\n",
    "    θ = 0.5\n",
    "    Q_T_matrix = get_Q_T_matrix(N, θ)\n",
    "    \n",
    "    # define the corresponding ODE problem\n",
    "    df(f,p,t) = Q_T_matrix * f\n",
    "    prob = ODEProblem(df,f_0,(0.0,T),Euler()) # use canonical Euler methods\n",
    "    \n",
    "    # solve using a default solver\n",
    "    solve(prob)\n",
    "end\n",
    "sol_matrix = @btime solve_transition_dynamics_matrix()\n",
    "plot(sol_matrix, title=\"Solution, using transition matrix\")"
   ]
  },
  {
   "cell_type": "markdown",
   "metadata": {},
   "source": [
    "Even if we have used sparse matrices, once $N$ gets fairly large, retrieving the solution can take a huge amount of time. Consider the following case with $N = 10^6$:"
   ]
  },
  {
   "cell_type": "code",
   "execution_count": 5,
   "metadata": {
    "scrolled": true
   },
   "outputs": [
    {
     "name": "stdout",
     "output_type": "stream",
     "text": [
      "  8.699 s (3407 allocations: 10.54 GiB)\n"
     ]
    }
   ],
   "source": [
    "# solve model with matrix Q\n",
    "function solve_transition_dynamics_matrix_large()\n",
    "    # setups\n",
    "    N = 10^6\n",
    "    T = 40.0\n",
    "    f_0 = [1.0; fill(0.0, N-1)]\n",
    "    θ = 0.5\n",
    "    Q_T_matrix = get_Q_T_matrix(N, θ)\n",
    "    \n",
    "    # define the corresponding ODE problem\n",
    "    df(f,p,t) = Q_T_matrix * f\n",
    "    prob = ODEProblem(df,f_0,(0.0,T),Euler()) # use canonical Euler methods\n",
    "    \n",
    "    # solve using a default solver\n",
    "    solve(prob)\n",
    "end\n",
    "sol_matrix = @btime solve_transition_dynamics_matrix_large();"
   ]
  },
  {
   "cell_type": "markdown",
   "metadata": {},
   "source": [
    "Certainly doable, but once we have something like $N = 10^8$, computation becomes simply impossible. Even if we set up a matrix in tridiagonal forms, computation gain is not apparent:"
   ]
  },
  {
   "cell_type": "code",
   "execution_count": 6,
   "metadata": {
    "scrolled": true
   },
   "outputs": [
    {
     "name": "stdout",
     "output_type": "stream",
     "text": [
      "  8.432 s (3258 allocations: 10.36 GiB)\n"
     ]
    }
   ],
   "source": [
    "function get_Q_T_matrix_tridiag(N, θ) \n",
    "    # construct a base matrix\n",
    "    mat = Tridiagonal(fill(θ/2, N-1), fill(-θ, N), fill(θ/2, N-1))\n",
    "    # (1,2) and (N,N-1) elements should be 0.5 -- take transpose first\n",
    "    mat[2,1] = θ\n",
    "    mat[(N-1),N] = θ\n",
    "    return mat\n",
    "end\n",
    "\n",
    "# solve model with matrix Q\n",
    "function solve_transition_dynamics_matrix_large_tridiag()\n",
    "    # setups\n",
    "    N = 10^6\n",
    "    T = 40.0\n",
    "    f_0 = [1.0; fill(0.0, N-1)]\n",
    "    θ = 0.5\n",
    "    Q_T_matrix = get_Q_T_matrix_tridiag(N, θ)\n",
    "    \n",
    "    # define the corresponding ODE problem\n",
    "    df(f,p,t) = Q_T_matrix * f\n",
    "    prob = ODEProblem(df,f_0,(0.0,T),Euler()) # use canonical Euler methods\n",
    "    \n",
    "    # solve using a default solver\n",
    "    solve(prob)\n",
    "end\n",
    "@btime solve_transition_dynamics_matrix_large_tridiag();"
   ]
  },
  {
   "cell_type": "markdown",
   "metadata": {},
   "source": [
    "Note that the sparse matrix tricks we used above can't be applied when the transition matrix is dense due to memory allocation. Also, when we have a complex transition process, writing a transition process in a matrix form can be fairly difficult or undesirable!"
   ]
  },
  {
   "cell_type": "markdown",
   "metadata": {},
   "source": [
    "## Rapidly solving linear ODEs with matrix-free operators by Krylovin'"
   ]
  },
  {
   "cell_type": "markdown",
   "metadata": {},
   "source": [
    "Here we show how matrix free operators for $Q^T$ can be defined without relying on a matrix. First, define a function `Q_transpose!` that determines the multiplicative behaviour:"
   ]
  },
  {
   "cell_type": "code",
   "execution_count": 7,
   "metadata": {},
   "outputs": [
    {
     "data": {
      "text/plain": [
       "Q_T! (generic function with 1 method)"
      ]
     },
     "execution_count": 7,
     "metadata": {},
     "output_type": "execute_result"
    }
   ],
   "source": [
    "function Q_T!(df, f, p, t)\n",
    "    @unpack θ, N = p\n",
    "    df[1] = -θ*f[1]+θ/2*f[2]\n",
    "    df[N] = θ/2*f[N-1]-θ*f[N]\n",
    "    Threads.@threads for i = 2:(N-1)\n",
    "        @inbounds df[i] = θ/2*f[i-1] - θ*f[i] + θ/2*f[i+1]\n",
    "    end\n",
    "    df[2] += θ/2*f[1] # from i = 1\n",
    "    df[N-1] += θ/2*f[N] # from i = N\n",
    "end"
   ]
  },
  {
   "cell_type": "markdown",
   "metadata": {},
   "source": [
    "which is essentially allocating $Q^T f(t)$ into `df` ($f'(t)$). "
   ]
  },
  {
   "cell_type": "markdown",
   "metadata": {},
   "source": [
    "Solving the ODE problem with matrix-free operators is fairly similar to the one for matrix based linear ODEs. Once we use Krylov methods, the solution can be readily found in a few seconds.\n"
   ]
  },
  {
   "cell_type": "code",
   "execution_count": 8,
   "metadata": {},
   "outputs": [
    {
     "data": {
      "image/png": "[encoded data removed]"
     },
     "execution_count": 8,
     "metadata": {},
     "output_type": "execute_result"
    }
   ],
   "source": [
    "# solve model without matrix\n",
    "function solve_transition_dynamics()\n",
    "    # setups\n",
    "    N = 4\n",
    "    p = (θ = 0.5, N = N)\n",
    "    f_0 = [1.0; fill(0.0, p.N-1)]\n",
    "    O! = MatrixFreeOperator(Q_T!, (p, 0.0), size=(p.N,p.N), opnorm=(p)->1.25)\n",
    "    t_interpolation=range(0,40.0,length=20)\n",
    "    \n",
    "    # define the corresponding ODE problem\n",
    "    prob = ODEProblem(O!,f_0,(0.0,40.0), p)\n",
    "    # solve using Krylov methods\n",
    "    solve(prob, LinearExponential(krylov=:simple), tstops=t_interpolation) \n",
    "end\n",
    "sol = solve_transition_dynamics()\n",
    "plot(sol, title=\"Solution, using Krylov methods\")"
   ]
  },
  {
   "cell_type": "markdown",
   "metadata": {},
   "source": [
    "Note that we have to provide `tstops` in `solve()`. This `tstops` is not a collection of discrete time step being used; it is rather a collection of sample points for interpolation on the exact solution -- using `LinearExponential` will make `solve()` return an analytic solution using Krylov methods evaluated at `tstops`, and evaluating the returned `sol_krylov` at `t` will provide the solution at `t` by interpolation based on the analytic solution found at `tstops`."
   ]
  },
  {
   "cell_type": "markdown",
   "metadata": {},
   "source": [
    "Compare the performance and memory allocation for $N = 10^6$ case:"
   ]
  },
  {
   "cell_type": "code",
   "execution_count": 9,
   "metadata": {},
   "outputs": [
    {
     "data": {
      "text/plain": [
       "solve_transition_dynamics_large (generic function with 1 method)"
      ]
     },
     "execution_count": 9,
     "metadata": {},
     "output_type": "execute_result"
    }
   ],
   "source": [
    "function solve_transition_dynamics_large()\n",
    "    # setups\n",
    "    N = 10^6\n",
    "    p = (θ = 0.5, N = N)\n",
    "    f_0 = [1.0; fill(0.0, p.N-1)]\n",
    "    O! = MatrixFreeOperator(Q_T!, (p, 0.0), size=(p.N,p.N), opnorm=(p)->1.25)\n",
    "    t_interpolation=range(0,40.0,length=20)\n",
    "    \n",
    "    # define the corresponding ODE problem\n",
    "    prob = ODEProblem(O!,f_0,(0.0,40.0), p)\n",
    "    # solve using Krylov methods\n",
    "    solve(prob, LinearExponential(krylov=:simple), tstops=t_interpolation) \n",
    "end"
   ]
  },
  {
   "cell_type": "code",
   "execution_count": 10,
   "metadata": {},
   "outputs": [
    {
     "name": "stdout",
     "output_type": "stream",
     "text": [
      "  2.170 s (3894 allocations: 603.22 MiB)\n"
     ]
    }
   ],
   "source": [
    "sol_krylov = @btime solve_transition_dynamics_large();"
   ]
  },
  {
   "cell_type": "markdown",
   "metadata": {},
   "source": [
    "Magnificent! Note that the solution is close to the one computed from a matrix-based operator above (even with $N=10^6$):"
   ]
  },
  {
   "cell_type": "code",
   "execution_count": 11,
   "metadata": {
    "scrolled": true
   },
   "outputs": [
    {
     "data": {
      "text/plain": [
       "0.21365687364017497"
      ]
     },
     "execution_count": 11,
     "metadata": {},
     "output_type": "execute_result"
    }
   ],
   "source": [
    "norm(sol_matrix.(0:1:40.0) - sol_krylov.(0:1:40.0))"
   ]
  },
  {
   "cell_type": "markdown",
   "metadata": {},
   "source": [
    "Furthermore, an extreme case with $N = 10^8$ isn't impossible once we reduce the number of nodes:"
   ]
  },
  {
   "cell_type": "code",
   "execution_count": 12,
   "metadata": {
    "scrolled": true
   },
   "outputs": [
    {
     "data": {
      "text/plain": [
       "solve_transition_dynamics_extreme (generic function with 1 method)"
      ]
     },
     "execution_count": 12,
     "metadata": {},
     "output_type": "execute_result"
    }
   ],
   "source": [
    "function solve_transition_dynamics_extreme()\n",
    "    # setups\n",
    "    N = 10^8\n",
    "    p = (θ = 0.5, N = N)\n",
    "    f_0 = [1.0; fill(0.0, p.N-1)]\n",
    "    O! = MatrixFreeOperator(Q_T!, (p, 0.0), size=(p.N,p.N), opnorm=(p)->1.25)\n",
    "    t_interpolation=range(0,40.0,length=20)\n",
    "    \n",
    "    # define the corresponding ODE problem\n",
    "    prob = ODEProblem(O!,f_0,(0.0,40.0), p)\n",
    "    # solve using Krylov methods\n",
    "    solve(prob, LinearExponential(krylov=:simple), tstops=t_interpolation) \n",
    "end"
   ]
  },
  {
   "cell_type": "code",
   "execution_count": 13,
   "metadata": {
    "scrolled": true
   },
   "outputs": [
    {
     "name": "stdout",
     "output_type": "stream",
     "text": [
      "388.059242 seconds (4.40 M allocations: 59.076 GiB, 1.61% gc time)\n"
     ]
    }
   ],
   "source": [
    "# run twice to get the accurate computation time after compilation OR use @btime instead\n",
    "@time solve_transition_dynamics_extreme();"
   ]
  },
  {
   "cell_type": "markdown",
   "metadata": {},
   "source": [
    "## Computing stationary distributions"
   ]
  },
  {
   "cell_type": "markdown",
   "metadata": {},
   "source": [
    "It is well-known that stationary distributions of Markov chains can be computed by finding the normalized eigenvector of the transpose of the transition matrix $Q^T$ associated with the eigenvalue of zero, i.e., finding $v$ such that $Q^T v = 0$. For large systems with complex dynamics, computing the solution can be fairly difficult. \n",
    "\n",
    "In Julia, `IterativeSolvers` can be used to find the solution using iterative methods such as conjugate gradient and GMRES. Good news is that, `IterativeSolvers` also supports matrix-free operators too:"
   ]
  },
  {
   "cell_type": "code",
   "execution_count": 14,
   "metadata": {
    "scrolled": true
   },
   "outputs": [
    {
     "name": "stdout",
     "output_type": "stream",
     "text": [
      "  1.034 ms (6516 allocations: 181.44 KiB)\n"
     ]
    }
   ],
   "source": [
    "N = 10^3\n",
    "\n",
    "# define parameters for matrix-free operator basis (Q_transpose!)\n",
    "p = (θ = 0.5, N = N)\n",
    "\n",
    "# find the stationary distribution (`stationary`)\n",
    "map_matfree! = LinearMap((y,x) -> Q_T!(y, x, p, 0.0), N; ismutating=true) # defines multiplicative behaviour\n",
    "stationary, history = @btime cg!(fill(1/N, N), map_matfree!, fill(0.0, N), log = true) # use conjugate gradient\n",
    "# stationary, history = @time gmres!(fill(1/N, N), map_matfree!, fill(0.0, N), log = true) # enable this line for GMRES\n",
    "stationary /= sum(stationary) # normalize\n",
    "stationary;"
   ]
  }
 ],
 "metadata": {
  "kernelspec": {
   "display_name": "Julia 1.0.2",
   "language": "julia",
   "name": "julia-1.0"
  },
  "language_info": {
   "file_extension": ".jl",
   "mimetype": "application/julia",
   "name": "julia",
   "version": "1.0.2"
  }
 },
 "nbformat": 4,
 "nbformat_minor": 2
}
